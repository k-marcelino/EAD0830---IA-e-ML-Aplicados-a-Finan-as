{
 "cells": [
  {
   "cell_type": "code",
   "execution_count": 1,
   "metadata": {},
   "outputs": [],
   "source": [
    "#Introduction to Linear Modeling in Python\n",
    "#https://app.datacamp.com/learn/courses/introduction-to-linear-modeling-in-python"
   ]
  },
  {
   "cell_type": "code",
   "execution_count": 3,
   "metadata": {},
   "outputs": [],
   "source": [
    "import numpy as np\n",
    "import pandas as pd\n",
    "import matplotlib.pyplot as plt"
   ]
  },
  {
   "cell_type": "code",
   "execution_count": null,
   "metadata": {},
   "outputs": [],
   "source": [
    "# Interpolation\n",
    "# Extrapolation\n"
   ]
  },
  {
   "cell_type": "code",
   "execution_count": 2,
   "metadata": {},
   "outputs": [
    {
     "ename": "NameError",
     "evalue": "name 'x' is not defined",
     "output_type": "error",
     "traceback": [
      "\u001b[1;31m---------------------------------------------------------------------------\u001b[0m",
      "\u001b[1;31mNameError\u001b[0m                                 Traceback (most recent call last)",
      "\u001b[1;32mc:\\Users\\Gracinha\\Desktop\\USP\\7º Semestre\\EAD0830 - IA e ML Aplicados a Finanças\\Aula 3 - Regressão Linear\\introduction to linear model - datacamp.ipynb Cell 3\u001b[0m in \u001b[0;36m2\n\u001b[0;32m      <a href='vscode-notebook-cell:/c%3A/Users/Gracinha/Desktop/USP/7%C2%BA%20Semestre/EAD0830%20-%20IA%20e%20ML%20Aplicados%20a%20Finan%C3%A7as/Aula%203%20-%20Regress%C3%A3o%20Linear/introduction%20to%20linear%20model%20-%20datacamp.ipynb#W2sZmlsZQ%3D%3D?line=0'>1</a>\u001b[0m \u001b[39mimport\u001b[39;00m \u001b[39mmatplotlib\u001b[39;00m\u001b[39m.\u001b[39;00m\u001b[39mpyplot\u001b[39;00m \u001b[39mas\u001b[39;00m \u001b[39mplt\u001b[39;00m\n\u001b[1;32m----> <a href='vscode-notebook-cell:/c%3A/Users/Gracinha/Desktop/USP/7%C2%BA%20Semestre/EAD0830%20-%20IA%20e%20ML%20Aplicados%20a%20Finan%C3%A7as/Aula%203%20-%20Regress%C3%A3o%20Linear/introduction%20to%20linear%20model%20-%20datacamp.ipynb#W2sZmlsZQ%3D%3D?line=1'>2</a>\u001b[0m plt\u001b[39m.\u001b[39mplot(x, y, \u001b[39m'\u001b[39m\u001b[39mr-o\u001b[39m\u001b[39m'\u001b[39m)\n\u001b[0;32m      <a href='vscode-notebook-cell:/c%3A/Users/Gracinha/Desktop/USP/7%C2%BA%20Semestre/EAD0830%20-%20IA%20e%20ML%20Aplicados%20a%20Finan%C3%A7as/Aula%203%20-%20Regress%C3%A3o%20Linear/introduction%20to%20linear%20model%20-%20datacamp.ipynb#W2sZmlsZQ%3D%3D?line=2'>3</a>\u001b[0m plt\u001b[39m.\u001b[39mshow()\n",
      "\u001b[1;31mNameError\u001b[0m: name 'x' is not defined"
     ]
    }
   ],
   "source": [
    "import matplotlib.pyplot as plt\n",
    "plt.plot(x, y, 'r-o')\n",
    "plt.show()"
   ]
  },
  {
   "attachments": {},
   "cell_type": "markdown",
   "metadata": {},
   "source": [
    "## Review of Single Variable Statistics"
   ]
  },
  {
   "cell_type": "code",
   "execution_count": null,
   "metadata": {},
   "outputs": [],
   "source": [
    "\n",
    "# Mean\n",
    "mean = sum(x)/len(x)\n",
    "# Deviation, sometimes called \"centering\"\n",
    "dx = x - np.mean(x)\n",
    "# Variance\n",
    "variance = np.mean(dx*dx)\n",
    "# Standard Deviation\n",
    "stdev = np.sqrt(variance)"
   ]
  },
  {
   "attachments": {},
   "cell_type": "markdown",
   "metadata": {},
   "source": [
    "## Covariance"
   ]
  },
  {
   "cell_type": "code",
   "execution_count": null,
   "metadata": {},
   "outputs": [],
   "source": [
    "# Deviations of two variables\n",
    "dx = x - np.mean(x)\n",
    "dy = y - np.mean(y)\n",
    "# Co-vary means to vary together\n",
    "deviation_products = dx*dy\n",
    "# Covariance as the mean\n",
    "covariance = np.mean(dx*dy)"
   ]
  },
  {
   "attachments": {},
   "cell_type": "markdown",
   "metadata": {},
   "source": [
    "## Correlation"
   ]
  },
  {
   "cell_type": "code",
   "execution_count": null,
   "metadata": {},
   "outputs": [],
   "source": [
    "# Divide deviations by standard deviation\n",
    "zx = dx/np.std(x)\n",
    "zy = dy/np.std(y)\n",
    "# Mean of the normalize deviations\n",
    "correlation = np.mean(zx*zy)"
   ]
  },
  {
   "attachments": {},
   "cell_type": "markdown",
   "metadata": {},
   "source": [
    "Covariance vs Correlation\n",
    "\n",
    "Covariance is a measure of whether two variables change (\"vary\") together. It is calculated by computing the products, point-by-point, of the deviations seen in the previous exercise, dx[n]*dy[n], and then finding the average of all those products.\n",
    "\n",
    "Correlation is in essence the normalized covariance. "
   ]
  }
 ],
 "metadata": {
  "kernelspec": {
   "display_name": "Python 3",
   "language": "python",
   "name": "python3"
  },
  "language_info": {
   "codemirror_mode": {
    "name": "ipython",
    "version": 3
   },
   "file_extension": ".py",
   "mimetype": "text/x-python",
   "name": "python",
   "nbconvert_exporter": "python",
   "pygments_lexer": "ipython3",
   "version": "3.10.7"
  },
  "orig_nbformat": 4
 },
 "nbformat": 4,
 "nbformat_minor": 2
}
