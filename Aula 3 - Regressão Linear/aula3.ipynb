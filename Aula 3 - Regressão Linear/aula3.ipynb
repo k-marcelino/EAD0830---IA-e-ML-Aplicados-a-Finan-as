{
 "cells": [
  {
   "cell_type": "code",
   "execution_count": null,
   "metadata": {},
   "outputs": [],
   "source": [
    "# link aula\n",
    "# https://www.youtube.com/watch?v=qSpNwS7h1EQ"
   ]
  },
  {
   "cell_type": "code",
   "execution_count": null,
   "metadata": {},
   "outputs": [],
   "source": [
    "# LUCRO DO NOEL DO ANO DE 2010 A 2018\n",
    "lucro_10_18 = [3200, 1720, 800, 1800, 4750, 8000, 3200, 12789, 12271]\n",
    "\n",
    "# NUMERO DE VENDAS DO NOEL DO ANO DE 2010 A 2019\n",
    "vendas_10_19 = [3269, 7000, 7300, 8264, 11345, 12589, 13211, 14467, 16666, 17420]"
   ]
  },
  {
   "cell_type": "code",
   "execution_count": null,
   "metadata": {},
   "outputs": [],
   "source": [
    "#Fazer regressão linear com os dados das listas acima\n"
   ]
  },
  {
   "attachments": {},
   "cell_type": "markdown",
   "metadata": {},
   "source": [
    "Existem vários métodos para encontrar os coeficientes da regressão linear. Abaixo estão alguns dos métodos mais comuns:\n",
    "\n",
    "    Método dos mínimos quadrados: Este é o método mais utilizado na regressão linear. Ele busca minimizar a soma dos quadrados dos resíduos entre os valores observados e os valores preditos pelo modelo de regressão.\n",
    "\n",
    "    Gradiente descendente: Este é um algoritmo de otimização iterativo que busca minimizar a função de custo da regressão linear, ajustando iterativamente os coeficientes até encontrar o mínimo global.\n",
    "\n",
    "    Equação normal: Esse método encontra os coeficientes diretamente através de uma equação matemática derivada da otimização da função de custo. A solução pode ser obtida calculando-se a inversa da matriz de covariância e multiplicando-a pelo vetor de resposta.\n",
    "\n",
    "    Decomposição QR: Esse método utiliza a decomposição QR da matriz de covariância para encontrar os coeficientes. A decomposição QR decompõe a matriz de covariância em um produto de uma matriz ortogonal e uma matriz triangular superior.\n",
    "\n",
    "    Decomposição de valores singulares (SVD): A decomposição SVD é um método que descompõe a matriz de covariância em três matrizes: uma matriz ortogonal esquerda, uma matriz diagonal de valores singulares e uma matriz ortogonal direita. Os coeficientes podem ser encontrados usando essas matrizes.\n",
    "\n",
    "    Algoritmos baseados em árvores: Existem algoritmos de regressão baseados em árvores, como a árvore de decisão e o Random Forest, que podem ser usados para encontrar os coeficientes da regressão linear. Esses métodos são baseados em particionar o espaço de variáveis independentes em regiões menores e ajustar os coeficientes em cada região.\n",
    "\n",
    "Esses são apenas alguns dos métodos comuns para encontrar os coeficientes da regressão linear. A escolha do método pode depender do tamanho dos dados, da complexidade do modelo e de outras considerações específicas do problema."
   ]
  },
  {
   "cell_type": "code",
   "execution_count": null,
   "metadata": {},
   "outputs": [],
   "source": [
    "# Métodos para encontrar os coeficientes da regressão linear:\n",
    "#Método dos mínimos quadrados (MMQ) ou dos mínimos quadrados ordinários (MQO);\n",
    "#Método dos mínimos quadrados generalizados (MMQG);\n",
    "#Método dos mínimos quadrados recursivos (MMQR);\n",
    "#Método dos mínimos quadrados recursivos generalizados (MMQRG);\n",
    "#Método dos mínimos quadrados recursivos com esquecimento (MMQRE);\n",
    "#Método dos mínimos quadrados recursivos com esquecimento generalizado (MMQREG);\n",
    "#Método dos mínimos quadrados recursivos com esquecimento exponencial (MMQREE);\n",
    "#Método dos mínimos quadrados recursivos com esquecimento exponencial generalizado (MMQREEG);\n",
    "#Método dos mínimos quadrados recursivos com esquecimento exponencial duplo (MMQREED);\n",
    "#Método dos mínimos quadrados recursivos com esquecimento exponencial duplo generalizado (MMQREEDG);\n",
    "#Método dos mínimos quadrados recursivos com esquecimento exponencial duplo com desconto (MMQREEDD);\n",
    "#Método dos mínimos quadrados recursivos com esquecimento exponencial duplo com desconto generalizado (MMQREEDDG);\n",
    "#Método dos mínimos quadrados recursivos com esquecimento exponencial duplo com desconto e tendência (MMQREEDDT);\n",
    "#Método dos mínimos quadrados recursivos com esquecimento exponencial duplo com desconto e tendência generalizado (MMQREEDDTG);\n",
    "#Método dos mínimos quadrados recursivos com esquecimento exponencial duplo com desconto e tendência e sazonalidade (MMQREEDDTS);\n",
    "#Método dos mínimos quadrados recursivos com esquecimento exponencial duplo com desconto e tendência e sazonalidade generalizado (MMQREEDDTSG);\n",
    "\n",
    "#y = ax + b\n"
   ]
  },
  {
   "attachments": {},
   "cell_type": "markdown",
   "metadata": {},
   "source": [
    "Para avaliar se o seu modelo de regressão linear está tendo uma boa performance, você pode considerar os seguintes fatores:\n",
    "\n",
    "    - Coeficiente de determinação (R²): O R² mede a proporção da variância total dos dados de resposta que é explicada pelo modelo. Um valor de R² próximo de 1 indica que o modelo é capaz de explicar uma grande parte da variação dos dados de resposta, enquanto um valor próximo de 0 indica que o modelo não está capturando bem a relação entre as variáveis.\n",
    "\n",
    "    - Erro médio quadrático (RMSE) ou erro médio absoluto (MAE): Essas métricas medem a diferença média entre os valores preditos pelo modelo e os valores reais dos dados de resposta. Um valor de RMSE ou MAE baixo indica que o modelo está fazendo boas previsões, pois o erro médio é pequeno.\n",
    "\n",
    "    - Análise de resíduos: Os resíduos são as diferenças entre os valores observados e os valores preditos pelo modelo. É importante analisar os resíduos para verificar se eles estão distribuídos aleatoriamente em torno de zero e não apresentam padrões ou tendências. Resíduos com distribuição aleatória indicam que o modelo está capturando bem a variação dos dados.\n",
    "\n",
    "    - Significância estatística dos coeficientes: É importante verificar se os coeficientes da regressão são estatisticamente significativos. Isso pode ser avaliado através dos valores de p-valor associados a cada coeficiente. Coeficientes com p-valores baixos indicam que há evidência estatística de que esses coeficientes são diferentes de zero.\n",
    "\n",
    "    - Validação cruzada: Realizar validação cruzada é uma prática recomendada para avaliar a performance do modelo em dados não vistos durante o treinamento. A validação cruzada divide os dados em conjuntos de treinamento e teste, permitindo avaliar como o modelo se generaliza para novos dados. Um desempenho consistente em diferentes conjuntos de teste indica uma boa performance do modelo.\n",
    "\n",
    "Esses são alguns fatores que podem ser considerados para avaliar a performance do seu modelo de regressão linear. É importante lembrar que a escolha das métricas e critérios de avaliação pode variar dependendo do contexto e dos objetivos específicos do problema."
   ]
  },
  {
   "cell_type": "code",
   "execution_count": 1,
   "metadata": {},
   "outputs": [
    {
     "name": "stdout",
     "output_type": "stream",
     "text": [
      "Predicted values: [12. 14.]\n"
     ]
    }
   ],
   "source": [
    "# Exemplo de código de regressão linear:\n",
    "import numpy as np\n",
    "from sklearn.linear_model import LinearRegression\n",
    "\n",
    "# Sample data\n",
    "X = np.array([[1], [2], [3], [4], [5]])  # Input features\n",
    "y = np.array([2, 4, 6, 8, 10])  # Target values\n",
    "\n",
    "# Create a Linear Regression model\n",
    "model = LinearRegression()\n",
    "\n",
    "# Fit the model to the data\n",
    "model.fit(X, y)\n",
    "\n",
    "# Make predictions\n",
    "X_new = np.array([[6], [7]])  # New input features\n",
    "y_pred = model.predict(X_new)\n",
    "\n",
    "# Print the predicted values\n",
    "print(\"Predicted values:\", y_pred)\n"
   ]
  },
  {
   "cell_type": "code",
   "execution_count": 3,
   "metadata": {},
   "outputs": [
    {
     "data": {
      "application/vnd.plotly.v1+json": {
       "config": {
        "plotlyServerURL": "https://plot.ly"
       },
       "data": [
        {
         "mode": "markers",
         "name": "Data Points",
         "type": "scatter",
         "x": [
          1,
          2,
          3,
          4,
          5
         ],
         "y": [
          2,
          4,
          6,
          8,
          10
         ]
        },
        {
         "mode": "lines",
         "name": "Regression Line",
         "type": "scatter",
         "x": [
          1,
          1.0404040404040404,
          1.0808080808080809,
          1.121212121212121,
          1.1616161616161615,
          1.202020202020202,
          1.2424242424242424,
          1.2828282828282829,
          1.3232323232323233,
          1.3636363636363638,
          1.404040404040404,
          1.4444444444444444,
          1.4848484848484849,
          1.5252525252525253,
          1.5656565656565657,
          1.606060606060606,
          1.6464646464646466,
          1.6868686868686869,
          1.7272727272727273,
          1.7676767676767677,
          1.8080808080808082,
          1.8484848484848486,
          1.8888888888888888,
          1.9292929292929295,
          1.9696969696969697,
          2.0101010101010104,
          2.0505050505050506,
          2.090909090909091,
          2.1313131313131315,
          2.1717171717171717,
          2.212121212121212,
          2.2525252525252526,
          2.2929292929292933,
          2.3333333333333335,
          2.3737373737373737,
          2.4141414141414144,
          2.4545454545454546,
          2.494949494949495,
          2.5353535353535355,
          2.575757575757576,
          2.6161616161616164,
          2.6565656565656566,
          2.6969696969696972,
          2.7373737373737375,
          2.7777777777777777,
          2.8181818181818183,
          2.858585858585859,
          2.8989898989898992,
          2.9393939393939394,
          2.97979797979798,
          3.0202020202020203,
          3.060606060606061,
          3.101010101010101,
          3.1414141414141414,
          3.181818181818182,
          3.2222222222222223,
          3.262626262626263,
          3.303030303030303,
          3.3434343434343434,
          3.383838383838384,
          3.4242424242424243,
          3.464646464646465,
          3.505050505050505,
          3.545454545454546,
          3.585858585858586,
          3.6262626262626263,
          3.666666666666667,
          3.707070707070707,
          3.747474747474748,
          3.787878787878788,
          3.8282828282828287,
          3.868686868686869,
          3.909090909090909,
          3.94949494949495,
          3.98989898989899,
          4.030303030303031,
          4.070707070707071,
          4.111111111111111,
          4.151515151515152,
          4.191919191919192,
          4.232323232323233,
          4.272727272727273,
          4.313131313131313,
          4.353535353535354,
          4.3939393939393945,
          4.434343434343434,
          4.474747474747475,
          4.515151515151516,
          4.555555555555555,
          4.595959595959597,
          4.636363636363637,
          4.6767676767676765,
          4.717171717171718,
          4.757575757575758,
          4.7979797979797985,
          4.838383838383839,
          4.878787878787879,
          4.91919191919192,
          4.95959595959596,
          5
         ],
         "y": [
          2,
          2.080808080808081,
          2.1616161616161618,
          2.242424242424242,
          2.323232323232323,
          2.404040404040404,
          2.484848484848485,
          2.5656565656565657,
          2.6464646464646466,
          2.7272727272727275,
          2.808080808080808,
          2.888888888888889,
          2.9696969696969697,
          3.0505050505050506,
          3.1313131313131315,
          3.212121212121212,
          3.2929292929292933,
          3.3737373737373737,
          3.4545454545454546,
          3.5353535353535355,
          3.6161616161616164,
          3.6969696969696972,
          3.7777777777777777,
          3.858585858585859,
          3.9393939393939394,
          4.020202020202021,
          4.101010101010101,
          4.181818181818182,
          4.262626262626263,
          4.343434343434343,
          4.424242424242424,
          4.505050505050505,
          4.5858585858585865,
          4.666666666666667,
          4.747474747474747,
          4.828282828282829,
          4.909090909090909,
          4.98989898989899,
          5.070707070707071,
          5.151515151515152,
          5.232323232323233,
          5.313131313131313,
          5.3939393939393945,
          5.474747474747475,
          5.555555555555555,
          5.636363636363637,
          5.717171717171718,
          5.7979797979797985,
          5.878787878787879,
          5.95959595959596,
          6.040404040404041,
          6.121212121212122,
          6.202020202020202,
          6.282828282828283,
          6.363636363636364,
          6.444444444444445,
          6.525252525252526,
          6.606060606060606,
          6.686868686868687,
          6.767676767676768,
          6.848484848484849,
          6.92929292929293,
          7.01010101010101,
          7.090909090909092,
          7.171717171717172,
          7.252525252525253,
          7.333333333333334,
          7.414141414141414,
          7.494949494949496,
          7.575757575757576,
          7.6565656565656575,
          7.737373737373738,
          7.818181818181818,
          7.8989898989899,
          7.97979797979798,
          8.060606060606062,
          8.141414141414142,
          8.222222222222221,
          8.303030303030305,
          8.383838383838384,
          8.464646464646465,
          8.545454545454547,
          8.626262626262626,
          8.707070707070708,
          8.787878787878789,
          8.868686868686869,
          8.94949494949495,
          9.030303030303031,
          9.11111111111111,
          9.191919191919194,
          9.272727272727273,
          9.353535353535353,
          9.434343434343436,
          9.515151515151516,
          9.595959595959597,
          9.676767676767678,
          9.757575757575758,
          9.83838383838384,
          9.91919191919192,
          10
         ]
        }
       ],
       "layout": {
        "showlegend": true,
        "template": {
         "data": {
          "bar": [
           {
            "error_x": {
             "color": "#2a3f5f"
            },
            "error_y": {
             "color": "#2a3f5f"
            },
            "marker": {
             "line": {
              "color": "#E5ECF6",
              "width": 0.5
             },
             "pattern": {
              "fillmode": "overlay",
              "size": 10,
              "solidity": 0.2
             }
            },
            "type": "bar"
           }
          ],
          "barpolar": [
           {
            "marker": {
             "line": {
              "color": "#E5ECF6",
              "width": 0.5
             },
             "pattern": {
              "fillmode": "overlay",
              "size": 10,
              "solidity": 0.2
             }
            },
            "type": "barpolar"
           }
          ],
          "carpet": [
           {
            "aaxis": {
             "endlinecolor": "#2a3f5f",
             "gridcolor": "white",
             "linecolor": "white",
             "minorgridcolor": "white",
             "startlinecolor": "#2a3f5f"
            },
            "baxis": {
             "endlinecolor": "#2a3f5f",
             "gridcolor": "white",
             "linecolor": "white",
             "minorgridcolor": "white",
             "startlinecolor": "#2a3f5f"
            },
            "type": "carpet"
           }
          ],
          "choropleth": [
           {
            "colorbar": {
             "outlinewidth": 0,
             "ticks": ""
            },
            "type": "choropleth"
           }
          ],
          "contour": [
           {
            "colorbar": {
             "outlinewidth": 0,
             "ticks": ""
            },
            "colorscale": [
             [
              0,
              "#0d0887"
             ],
             [
              0.1111111111111111,
              "#46039f"
             ],
             [
              0.2222222222222222,
              "#7201a8"
             ],
             [
              0.3333333333333333,
              "#9c179e"
             ],
             [
              0.4444444444444444,
              "#bd3786"
             ],
             [
              0.5555555555555556,
              "#d8576b"
             ],
             [
              0.6666666666666666,
              "#ed7953"
             ],
             [
              0.7777777777777778,
              "#fb9f3a"
             ],
             [
              0.8888888888888888,
              "#fdca26"
             ],
             [
              1,
              "#f0f921"
             ]
            ],
            "type": "contour"
           }
          ],
          "contourcarpet": [
           {
            "colorbar": {
             "outlinewidth": 0,
             "ticks": ""
            },
            "type": "contourcarpet"
           }
          ],
          "heatmap": [
           {
            "colorbar": {
             "outlinewidth": 0,
             "ticks": ""
            },
            "colorscale": [
             [
              0,
              "#0d0887"
             ],
             [
              0.1111111111111111,
              "#46039f"
             ],
             [
              0.2222222222222222,
              "#7201a8"
             ],
             [
              0.3333333333333333,
              "#9c179e"
             ],
             [
              0.4444444444444444,
              "#bd3786"
             ],
             [
              0.5555555555555556,
              "#d8576b"
             ],
             [
              0.6666666666666666,
              "#ed7953"
             ],
             [
              0.7777777777777778,
              "#fb9f3a"
             ],
             [
              0.8888888888888888,
              "#fdca26"
             ],
             [
              1,
              "#f0f921"
             ]
            ],
            "type": "heatmap"
           }
          ],
          "heatmapgl": [
           {
            "colorbar": {
             "outlinewidth": 0,
             "ticks": ""
            },
            "colorscale": [
             [
              0,
              "#0d0887"
             ],
             [
              0.1111111111111111,
              "#46039f"
             ],
             [
              0.2222222222222222,
              "#7201a8"
             ],
             [
              0.3333333333333333,
              "#9c179e"
             ],
             [
              0.4444444444444444,
              "#bd3786"
             ],
             [
              0.5555555555555556,
              "#d8576b"
             ],
             [
              0.6666666666666666,
              "#ed7953"
             ],
             [
              0.7777777777777778,
              "#fb9f3a"
             ],
             [
              0.8888888888888888,
              "#fdca26"
             ],
             [
              1,
              "#f0f921"
             ]
            ],
            "type": "heatmapgl"
           }
          ],
          "histogram": [
           {
            "marker": {
             "pattern": {
              "fillmode": "overlay",
              "size": 10,
              "solidity": 0.2
             }
            },
            "type": "histogram"
           }
          ],
          "histogram2d": [
           {
            "colorbar": {
             "outlinewidth": 0,
             "ticks": ""
            },
            "colorscale": [
             [
              0,
              "#0d0887"
             ],
             [
              0.1111111111111111,
              "#46039f"
             ],
             [
              0.2222222222222222,
              "#7201a8"
             ],
             [
              0.3333333333333333,
              "#9c179e"
             ],
             [
              0.4444444444444444,
              "#bd3786"
             ],
             [
              0.5555555555555556,
              "#d8576b"
             ],
             [
              0.6666666666666666,
              "#ed7953"
             ],
             [
              0.7777777777777778,
              "#fb9f3a"
             ],
             [
              0.8888888888888888,
              "#fdca26"
             ],
             [
              1,
              "#f0f921"
             ]
            ],
            "type": "histogram2d"
           }
          ],
          "histogram2dcontour": [
           {
            "colorbar": {
             "outlinewidth": 0,
             "ticks": ""
            },
            "colorscale": [
             [
              0,
              "#0d0887"
             ],
             [
              0.1111111111111111,
              "#46039f"
             ],
             [
              0.2222222222222222,
              "#7201a8"
             ],
             [
              0.3333333333333333,
              "#9c179e"
             ],
             [
              0.4444444444444444,
              "#bd3786"
             ],
             [
              0.5555555555555556,
              "#d8576b"
             ],
             [
              0.6666666666666666,
              "#ed7953"
             ],
             [
              0.7777777777777778,
              "#fb9f3a"
             ],
             [
              0.8888888888888888,
              "#fdca26"
             ],
             [
              1,
              "#f0f921"
             ]
            ],
            "type": "histogram2dcontour"
           }
          ],
          "mesh3d": [
           {
            "colorbar": {
             "outlinewidth": 0,
             "ticks": ""
            },
            "type": "mesh3d"
           }
          ],
          "parcoords": [
           {
            "line": {
             "colorbar": {
              "outlinewidth": 0,
              "ticks": ""
             }
            },
            "type": "parcoords"
           }
          ],
          "pie": [
           {
            "automargin": true,
            "type": "pie"
           }
          ],
          "scatter": [
           {
            "fillpattern": {
             "fillmode": "overlay",
             "size": 10,
             "solidity": 0.2
            },
            "type": "scatter"
           }
          ],
          "scatter3d": [
           {
            "line": {
             "colorbar": {
              "outlinewidth": 0,
              "ticks": ""
             }
            },
            "marker": {
             "colorbar": {
              "outlinewidth": 0,
              "ticks": ""
             }
            },
            "type": "scatter3d"
           }
          ],
          "scattercarpet": [
           {
            "marker": {
             "colorbar": {
              "outlinewidth": 0,
              "ticks": ""
             }
            },
            "type": "scattercarpet"
           }
          ],
          "scattergeo": [
           {
            "marker": {
             "colorbar": {
              "outlinewidth": 0,
              "ticks": ""
             }
            },
            "type": "scattergeo"
           }
          ],
          "scattergl": [
           {
            "marker": {
             "colorbar": {
              "outlinewidth": 0,
              "ticks": ""
             }
            },
            "type": "scattergl"
           }
          ],
          "scattermapbox": [
           {
            "marker": {
             "colorbar": {
              "outlinewidth": 0,
              "ticks": ""
             }
            },
            "type": "scattermapbox"
           }
          ],
          "scatterpolar": [
           {
            "marker": {
             "colorbar": {
              "outlinewidth": 0,
              "ticks": ""
             }
            },
            "type": "scatterpolar"
           }
          ],
          "scatterpolargl": [
           {
            "marker": {
             "colorbar": {
              "outlinewidth": 0,
              "ticks": ""
             }
            },
            "type": "scatterpolargl"
           }
          ],
          "scatterternary": [
           {
            "marker": {
             "colorbar": {
              "outlinewidth": 0,
              "ticks": ""
             }
            },
            "type": "scatterternary"
           }
          ],
          "surface": [
           {
            "colorbar": {
             "outlinewidth": 0,
             "ticks": ""
            },
            "colorscale": [
             [
              0,
              "#0d0887"
             ],
             [
              0.1111111111111111,
              "#46039f"
             ],
             [
              0.2222222222222222,
              "#7201a8"
             ],
             [
              0.3333333333333333,
              "#9c179e"
             ],
             [
              0.4444444444444444,
              "#bd3786"
             ],
             [
              0.5555555555555556,
              "#d8576b"
             ],
             [
              0.6666666666666666,
              "#ed7953"
             ],
             [
              0.7777777777777778,
              "#fb9f3a"
             ],
             [
              0.8888888888888888,
              "#fdca26"
             ],
             [
              1,
              "#f0f921"
             ]
            ],
            "type": "surface"
           }
          ],
          "table": [
           {
            "cells": {
             "fill": {
              "color": "#EBF0F8"
             },
             "line": {
              "color": "white"
             }
            },
            "header": {
             "fill": {
              "color": "#C8D4E3"
             },
             "line": {
              "color": "white"
             }
            },
            "type": "table"
           }
          ]
         },
         "layout": {
          "annotationdefaults": {
           "arrowcolor": "#2a3f5f",
           "arrowhead": 0,
           "arrowwidth": 1
          },
          "autotypenumbers": "strict",
          "coloraxis": {
           "colorbar": {
            "outlinewidth": 0,
            "ticks": ""
           }
          },
          "colorscale": {
           "diverging": [
            [
             0,
             "#8e0152"
            ],
            [
             0.1,
             "#c51b7d"
            ],
            [
             0.2,
             "#de77ae"
            ],
            [
             0.3,
             "#f1b6da"
            ],
            [
             0.4,
             "#fde0ef"
            ],
            [
             0.5,
             "#f7f7f7"
            ],
            [
             0.6,
             "#e6f5d0"
            ],
            [
             0.7,
             "#b8e186"
            ],
            [
             0.8,
             "#7fbc41"
            ],
            [
             0.9,
             "#4d9221"
            ],
            [
             1,
             "#276419"
            ]
           ],
           "sequential": [
            [
             0,
             "#0d0887"
            ],
            [
             0.1111111111111111,
             "#46039f"
            ],
            [
             0.2222222222222222,
             "#7201a8"
            ],
            [
             0.3333333333333333,
             "#9c179e"
            ],
            [
             0.4444444444444444,
             "#bd3786"
            ],
            [
             0.5555555555555556,
             "#d8576b"
            ],
            [
             0.6666666666666666,
             "#ed7953"
            ],
            [
             0.7777777777777778,
             "#fb9f3a"
            ],
            [
             0.8888888888888888,
             "#fdca26"
            ],
            [
             1,
             "#f0f921"
            ]
           ],
           "sequentialminus": [
            [
             0,
             "#0d0887"
            ],
            [
             0.1111111111111111,
             "#46039f"
            ],
            [
             0.2222222222222222,
             "#7201a8"
            ],
            [
             0.3333333333333333,
             "#9c179e"
            ],
            [
             0.4444444444444444,
             "#bd3786"
            ],
            [
             0.5555555555555556,
             "#d8576b"
            ],
            [
             0.6666666666666666,
             "#ed7953"
            ],
            [
             0.7777777777777778,
             "#fb9f3a"
            ],
            [
             0.8888888888888888,
             "#fdca26"
            ],
            [
             1,
             "#f0f921"
            ]
           ]
          },
          "colorway": [
           "#636efa",
           "#EF553B",
           "#00cc96",
           "#ab63fa",
           "#FFA15A",
           "#19d3f3",
           "#FF6692",
           "#B6E880",
           "#FF97FF",
           "#FECB52"
          ],
          "font": {
           "color": "#2a3f5f"
          },
          "geo": {
           "bgcolor": "white",
           "lakecolor": "white",
           "landcolor": "#E5ECF6",
           "showlakes": true,
           "showland": true,
           "subunitcolor": "white"
          },
          "hoverlabel": {
           "align": "left"
          },
          "hovermode": "closest",
          "mapbox": {
           "style": "light"
          },
          "paper_bgcolor": "white",
          "plot_bgcolor": "#E5ECF6",
          "polar": {
           "angularaxis": {
            "gridcolor": "white",
            "linecolor": "white",
            "ticks": ""
           },
           "bgcolor": "#E5ECF6",
           "radialaxis": {
            "gridcolor": "white",
            "linecolor": "white",
            "ticks": ""
           }
          },
          "scene": {
           "xaxis": {
            "backgroundcolor": "#E5ECF6",
            "gridcolor": "white",
            "gridwidth": 2,
            "linecolor": "white",
            "showbackground": true,
            "ticks": "",
            "zerolinecolor": "white"
           },
           "yaxis": {
            "backgroundcolor": "#E5ECF6",
            "gridcolor": "white",
            "gridwidth": 2,
            "linecolor": "white",
            "showbackground": true,
            "ticks": "",
            "zerolinecolor": "white"
           },
           "zaxis": {
            "backgroundcolor": "#E5ECF6",
            "gridcolor": "white",
            "gridwidth": 2,
            "linecolor": "white",
            "showbackground": true,
            "ticks": "",
            "zerolinecolor": "white"
           }
          },
          "shapedefaults": {
           "line": {
            "color": "#2a3f5f"
           }
          },
          "ternary": {
           "aaxis": {
            "gridcolor": "white",
            "linecolor": "white",
            "ticks": ""
           },
           "baxis": {
            "gridcolor": "white",
            "linecolor": "white",
            "ticks": ""
           },
           "bgcolor": "#E5ECF6",
           "caxis": {
            "gridcolor": "white",
            "linecolor": "white",
            "ticks": ""
           }
          },
          "title": {
           "x": 0.05
          },
          "xaxis": {
           "automargin": true,
           "gridcolor": "white",
           "linecolor": "white",
           "ticks": "",
           "title": {
            "standoff": 15
           },
           "zerolinecolor": "white",
           "zerolinewidth": 2
          },
          "yaxis": {
           "automargin": true,
           "gridcolor": "white",
           "linecolor": "white",
           "ticks": "",
           "title": {
            "standoff": 15
           },
           "zerolinecolor": "white",
           "zerolinewidth": 2
          }
         }
        },
        "title": {
         "text": "Linear Regression"
        },
        "xaxis": {
         "title": {
          "text": "X"
         }
        },
        "yaxis": {
         "title": {
          "text": "y"
         }
        }
       }
      }
     },
     "metadata": {},
     "output_type": "display_data"
    },
    {
     "name": "stdout",
     "output_type": "stream",
     "text": [
      "Predicted values: [12. 14.]\n",
      "R-squared: 1.0\n",
      "Mean Squared Error (MSE): 0.0\n",
      "Root Mean Squared Error (RMSE): 0.0\n",
      "Mean Absolute Error (MAE): 0.0\n"
     ]
    }
   ],
   "source": [
    "import numpy as np\n",
    "import plotly.express as px\n",
    "import plotly.graph_objects as go\n",
    "from sklearn.linear_model import LinearRegression\n",
    "from sklearn.metrics import mean_squared_error, mean_absolute_error\n",
    "\n",
    "# Sample data\n",
    "X = np.array([[1], [2], [3], [4], [5]])  # Input features\n",
    "y = np.array([2, 4, 6, 8, 10])  # Target values\n",
    "\n",
    "# Create a Linear Regression model\n",
    "model = LinearRegression()\n",
    "\n",
    "# Fit the model to the data\n",
    "model.fit(X, y)\n",
    "\n",
    "# Make predictions\n",
    "X_new = np.array([[6], [7]])  # New input features\n",
    "y_pred = model.predict(X_new)\n",
    "\n",
    "# Calculate evaluation metrics\n",
    "y_pred_train = model.predict(X)\n",
    "mse = mean_squared_error(y, y_pred_train)\n",
    "mae = mean_absolute_error(y, y_pred_train)\n",
    "rmse = np.sqrt(mse)\n",
    "\n",
    "# Calculate R²\n",
    "r_squared = model.score(X, y)\n",
    "\n",
    "# Visualize the regression line\n",
    "X_line = np.linspace(X.min(), X.max(), 100).reshape(-1, 1)\n",
    "y_line = model.predict(X_line)\n",
    "\n",
    "fig = go.Figure()\n",
    "fig.add_trace(go.Scatter(x=X.squeeze(), y=y, mode='markers', name='Data Points'))\n",
    "fig.add_trace(go.Scatter(x=X_line.squeeze(), y=y_line, mode='lines', name='Regression Line'))\n",
    "fig.update_layout(\n",
    "    title='Linear Regression',\n",
    "    xaxis_title='X',\n",
    "    yaxis_title='y',\n",
    "    showlegend=True\n",
    ")\n",
    "fig.show()\n",
    "\n",
    "print(\"Predicted values:\", y_pred)\n",
    "print(\"R-squared:\", r_squared)\n",
    "print(\"Mean Squared Error (MSE):\", mse)\n",
    "print(\"Root Mean Squared Error (RMSE):\", rmse)\n",
    "print(\"Mean Absolute Error (MAE):\", mae)\n"
   ]
  },
  {
   "cell_type": "code",
   "execution_count": 7,
   "metadata": {},
   "outputs": [
    {
     "data": {
      "text/html": [
       "<div>\n",
       "<style scoped>\n",
       "    .dataframe tbody tr th:only-of-type {\n",
       "        vertical-align: middle;\n",
       "    }\n",
       "\n",
       "    .dataframe tbody tr th {\n",
       "        vertical-align: top;\n",
       "    }\n",
       "\n",
       "    .dataframe thead th {\n",
       "        text-align: right;\n",
       "    }\n",
       "</style>\n",
       "<table border=\"1\" class=\"dataframe\">\n",
       "  <thead>\n",
       "    <tr style=\"text-align: right;\">\n",
       "      <th></th>\n",
       "      <th>wage</th>\n",
       "      <th>lwage</th>\n",
       "      <th>belavg</th>\n",
       "      <th>abvavg</th>\n",
       "      <th>exper</th>\n",
       "      <th>looks</th>\n",
       "      <th>union</th>\n",
       "      <th>goodhlth</th>\n",
       "      <th>black</th>\n",
       "      <th>female</th>\n",
       "      <th>married</th>\n",
       "      <th>south</th>\n",
       "      <th>bigcity</th>\n",
       "      <th>smllcity</th>\n",
       "      <th>service</th>\n",
       "      <th>expersq</th>\n",
       "      <th>educ</th>\n",
       "    </tr>\n",
       "  </thead>\n",
       "  <tbody>\n",
       "    <tr>\n",
       "      <th>0</th>\n",
       "      <td>5.73</td>\n",
       "      <td>1.745715</td>\n",
       "      <td>0</td>\n",
       "      <td>1</td>\n",
       "      <td>30</td>\n",
       "      <td>4</td>\n",
       "      <td>0</td>\n",
       "      <td>1</td>\n",
       "      <td>0</td>\n",
       "      <td>1</td>\n",
       "      <td>1</td>\n",
       "      <td>0</td>\n",
       "      <td>0</td>\n",
       "      <td>1</td>\n",
       "      <td>1</td>\n",
       "      <td>900</td>\n",
       "      <td>14</td>\n",
       "    </tr>\n",
       "    <tr>\n",
       "      <th>1</th>\n",
       "      <td>4.28</td>\n",
       "      <td>1.453953</td>\n",
       "      <td>0</td>\n",
       "      <td>0</td>\n",
       "      <td>28</td>\n",
       "      <td>3</td>\n",
       "      <td>0</td>\n",
       "      <td>1</td>\n",
       "      <td>0</td>\n",
       "      <td>1</td>\n",
       "      <td>1</td>\n",
       "      <td>1</td>\n",
       "      <td>0</td>\n",
       "      <td>1</td>\n",
       "      <td>0</td>\n",
       "      <td>784</td>\n",
       "      <td>12</td>\n",
       "    </tr>\n",
       "    <tr>\n",
       "      <th>2</th>\n",
       "      <td>7.96</td>\n",
       "      <td>2.074429</td>\n",
       "      <td>0</td>\n",
       "      <td>1</td>\n",
       "      <td>35</td>\n",
       "      <td>4</td>\n",
       "      <td>0</td>\n",
       "      <td>1</td>\n",
       "      <td>0</td>\n",
       "      <td>1</td>\n",
       "      <td>0</td>\n",
       "      <td>0</td>\n",
       "      <td>0</td>\n",
       "      <td>1</td>\n",
       "      <td>0</td>\n",
       "      <td>1225</td>\n",
       "      <td>10</td>\n",
       "    </tr>\n",
       "    <tr>\n",
       "      <th>3</th>\n",
       "      <td>11.57</td>\n",
       "      <td>2.448416</td>\n",
       "      <td>0</td>\n",
       "      <td>0</td>\n",
       "      <td>38</td>\n",
       "      <td>3</td>\n",
       "      <td>0</td>\n",
       "      <td>1</td>\n",
       "      <td>0</td>\n",
       "      <td>0</td>\n",
       "      <td>1</td>\n",
       "      <td>0</td>\n",
       "      <td>1</td>\n",
       "      <td>0</td>\n",
       "      <td>1</td>\n",
       "      <td>1444</td>\n",
       "      <td>16</td>\n",
       "    </tr>\n",
       "    <tr>\n",
       "      <th>4</th>\n",
       "      <td>11.42</td>\n",
       "      <td>2.435366</td>\n",
       "      <td>0</td>\n",
       "      <td>0</td>\n",
       "      <td>27</td>\n",
       "      <td>3</td>\n",
       "      <td>0</td>\n",
       "      <td>1</td>\n",
       "      <td>0</td>\n",
       "      <td>0</td>\n",
       "      <td>1</td>\n",
       "      <td>0</td>\n",
       "      <td>0</td>\n",
       "      <td>1</td>\n",
       "      <td>0</td>\n",
       "      <td>729</td>\n",
       "      <td>16</td>\n",
       "    </tr>\n",
       "  </tbody>\n",
       "</table>\n",
       "</div>"
      ],
      "text/plain": [
       "    wage     lwage  belavg  abvavg  exper  looks  union  goodhlth  black  \\\n",
       "0   5.73  1.745715       0       1     30      4      0         1      0   \n",
       "1   4.28  1.453953       0       0     28      3      0         1      0   \n",
       "2   7.96  2.074429       0       1     35      4      0         1      0   \n",
       "3  11.57  2.448416       0       0     38      3      0         1      0   \n",
       "4  11.42  2.435366       0       0     27      3      0         1      0   \n",
       "\n",
       "   female  married  south  bigcity  smllcity  service  expersq  educ  \n",
       "0       1        1      0        0         1        1      900    14  \n",
       "1       1        1      1        0         1        0      784    12  \n",
       "2       1        0      0        0         1        0     1225    10  \n",
       "3       0        1      0        1         0        1     1444    16  \n",
       "4       0        1      0        0         1        0      729    16  "
      ]
     },
     "execution_count": 7,
     "metadata": {},
     "output_type": "execute_result"
    }
   ],
   "source": [
    "import pandas as pd\n",
    "\n",
    "beauty = pd.read_excel('beauty_data.xlsx')\n",
    "beauty.head()"
   ]
  },
  {
   "cell_type": "code",
   "execution_count": 10,
   "metadata": {},
   "outputs": [
    {
     "name": "stdout",
     "output_type": "stream",
     "text": [
      "                            OLS Regression Results                            \n",
      "==============================================================================\n",
      "Dep. Variable:                  lwage   R-squared:                       0.227\n",
      "Model:                            OLS   Adj. R-squared:                  0.226\n",
      "Method:                 Least Squares   F-statistic:                     123.2\n",
      "Date:                Mon, 29 May 2023   Prob (F-statistic):           6.09e-70\n",
      "Time:                        01:08:24   Log-Likelihood:                -969.64\n",
      "No. Observations:                1260   AIC:                             1947.\n",
      "Df Residuals:                    1256   BIC:                             1968.\n",
      "Df Model:                           3                                         \n",
      "Covariance Type:            nonrobust                                         \n",
      "==============================================================================\n",
      "                 coef    std err          t      P>|t|      [0.025      0.975]\n",
      "------------------------------------------------------------------------------\n",
      "const          0.2279      0.084      2.719      0.007       0.063       0.392\n",
      "educ           0.0705      0.006     12.206      0.000       0.059       0.082\n",
      "exper          0.0479      0.005      9.997      0.000       0.039       0.057\n",
      "expersq       -0.0007      0.000     -6.395      0.000      -0.001      -0.000\n",
      "==============================================================================\n",
      "Omnibus:                       32.971   Durbin-Watson:                   1.687\n",
      "Prob(Omnibus):                  0.000   Jarque-Bera (JB):               72.833\n",
      "Skew:                           0.059   Prob(JB):                     1.53e-16\n",
      "Kurtosis:                       4.172   Cond. No.                     4.07e+03\n",
      "==============================================================================\n",
      "\n",
      "Notes:\n",
      "[1] Standard Errors assume that the covariance matrix of the errors is correctly specified.\n",
      "[2] The condition number is large, 4.07e+03. This might indicate that there are\n",
      "strong multicollinearity or other numerical problems.\n"
     ]
    },
    {
     "data": {
      "text/html": [
       "<div>\n",
       "<style scoped>\n",
       "    .dataframe tbody tr th:only-of-type {\n",
       "        vertical-align: middle;\n",
       "    }\n",
       "\n",
       "    .dataframe tbody tr th {\n",
       "        vertical-align: top;\n",
       "    }\n",
       "\n",
       "    .dataframe thead th {\n",
       "        text-align: right;\n",
       "    }\n",
       "</style>\n",
       "<table border=\"1\" class=\"dataframe\">\n",
       "  <thead>\n",
       "    <tr style=\"text-align: right;\">\n",
       "      <th></th>\n",
       "      <th>coef</th>\n",
       "      <th>std err</th>\n",
       "      <th>t</th>\n",
       "      <th>P&gt;|t|</th>\n",
       "      <th>[0.025</th>\n",
       "      <th>0.975]</th>\n",
       "    </tr>\n",
       "  </thead>\n",
       "  <tbody>\n",
       "    <tr>\n",
       "      <th>const</th>\n",
       "      <td>0.2279</td>\n",
       "      <td>0.084</td>\n",
       "      <td>2.719</td>\n",
       "      <td>0.007</td>\n",
       "      <td>0.063</td>\n",
       "      <td>0.392</td>\n",
       "    </tr>\n",
       "    <tr>\n",
       "      <th>educ</th>\n",
       "      <td>0.0705</td>\n",
       "      <td>0.006</td>\n",
       "      <td>12.206</td>\n",
       "      <td>0.000</td>\n",
       "      <td>0.059</td>\n",
       "      <td>0.082</td>\n",
       "    </tr>\n",
       "    <tr>\n",
       "      <th>exper</th>\n",
       "      <td>0.0479</td>\n",
       "      <td>0.005</td>\n",
       "      <td>9.997</td>\n",
       "      <td>0.000</td>\n",
       "      <td>0.039</td>\n",
       "      <td>0.057</td>\n",
       "    </tr>\n",
       "    <tr>\n",
       "      <th>expersq</th>\n",
       "      <td>-0.0007</td>\n",
       "      <td>0.000</td>\n",
       "      <td>-6.395</td>\n",
       "      <td>0.000</td>\n",
       "      <td>-0.001</td>\n",
       "      <td>-0.000</td>\n",
       "    </tr>\n",
       "  </tbody>\n",
       "</table>\n",
       "</div>"
      ],
      "text/plain": [
       "           coef  std err       t  P>|t|  [0.025  0.975]\n",
       "const    0.2279    0.084   2.719  0.007   0.063   0.392\n",
       "educ     0.0705    0.006  12.206  0.000   0.059   0.082\n",
       "exper    0.0479    0.005   9.997  0.000   0.039   0.057\n",
       "expersq -0.0007    0.000  -6.395  0.000  -0.001  -0.000"
      ]
     },
     "execution_count": 10,
     "metadata": {},
     "output_type": "execute_result"
    }
   ],
   "source": [
    "import pandas as pd\n",
    "import statsmodels.api as sm\n",
    "import openpyxl\n",
    "\n",
    "# Load the \"beauty\" dataset\n",
    "beauty = pd.read_excel('beauty_data.xlsx')\n",
    "\n",
    "# Create the input features and target variable\n",
    "X = beauty[['educ', 'exper', 'expersq']]\n",
    "y = beauty['lwage']\n",
    "\n",
    "# Add a constant column to the input features\n",
    "X = sm.add_constant(X)\n",
    "\n",
    "# Create the linear regression model\n",
    "model = sm.OLS(y, X)\n",
    "\n",
    "# Fit the model to the data\n",
    "results = model.fit()\n",
    "\n",
    "# Print the model summary\n",
    "print(results.summary())\n",
    "\n",
    "# Save the model results to an Excel file\n",
    "result_data = results.summary().tables[1].as_html()\n",
    "result_df = pd.read_html(result_data, header=0, index_col=0)[0]\n",
    "result_df#.to_excel(\"linear_regression_results.xlsx\")\n"
   ]
  },
  {
   "cell_type": "code",
   "execution_count": 15,
   "metadata": {},
   "outputs": [
    {
     "name": "stderr",
     "output_type": "stream",
     "text": [
      "c:\\Users\\Gracinha\\AppData\\Local\\Programs\\Python\\Python310\\lib\\site-packages\\sklearn\\base.py:450: UserWarning:\n",
      "\n",
      "X does not have valid feature names, but LinearRegression was fitted with feature names\n",
      "\n"
     ]
    },
    {
     "data": {
      "application/vnd.plotly.v1+json": {
       "config": {
        "plotlyServerURL": "https://plot.ly"
       },
       "data": [
        {
         "mode": "markers",
         "name": "Data Points",
         "type": "scatter",
         "x": [
          30,
          28,
          35,
          38,
          27,
          20,
          12,
          5,
          5,
          12,
          3,
          6,
          19,
          8,
          12,
          17,
          7,
          12,
          10,
          7,
          7,
          19,
          33,
          32,
          12,
          24,
          29,
          17,
          41,
          40,
          10,
          43,
          41,
          18,
          28,
          37,
          20,
          10,
          31,
          18,
          9,
          42,
          14,
          27,
          20,
          14,
          4,
          13,
          5,
          32,
          19,
          14,
          28,
          31,
          18,
          23,
          14,
          17,
          16,
          19,
          26,
          20,
          18,
          35,
          9,
          20,
          7,
          40,
          12,
          33,
          16,
          15,
          11,
          24,
          6,
          40,
          15,
          9,
          16,
          12,
          8,
          25,
          24,
          25,
          7,
          40,
          29,
          13,
          5,
          10,
          25,
          10,
          20,
          7,
          25,
          8,
          8,
          28,
          37,
          31,
          24,
          33,
          8,
          33,
          30,
          23,
          24,
          4,
          40,
          1,
          36,
          7,
          7,
          14,
          7,
          11,
          6,
          23,
          19,
          30,
          21,
          9,
          29,
          9,
          18,
          26,
          21,
          12,
          11,
          18,
          22,
          38,
          10,
          22,
          16,
          20,
          14,
          14,
          15,
          18,
          21,
          15,
          10,
          6,
          8,
          18,
          15,
          11,
          20,
          18,
          10,
          26,
          35,
          30,
          6,
          13,
          10,
          16,
          5,
          11,
          6,
          22,
          4,
          15,
          7,
          10,
          8,
          14,
          11,
          34,
          12,
          10,
          11,
          8,
          28,
          24,
          8,
          13,
          4,
          43,
          30,
          16,
          19,
          21,
          26,
          8,
          24,
          15,
          26,
          6,
          19,
          4,
          23,
          25,
          18,
          27,
          16,
          20,
          12,
          35,
          36,
          35,
          5,
          15,
          44,
          28,
          2,
          43,
          30,
          26,
          40,
          7,
          10,
          37,
          27,
          5,
          14,
          16,
          4,
          39,
          32,
          16,
          10,
          15,
          10,
          10,
          12,
          4,
          12,
          15,
          37,
          23,
          15,
          10,
          14,
          17,
          24,
          13,
          5,
          20,
          29,
          10,
          36,
          15,
          26,
          13,
          26,
          9,
          40,
          28,
          12,
          25,
          18,
          9,
          9,
          30,
          40,
          36,
          30,
          27,
          22,
          40,
          40,
          21,
          36,
          16,
          36,
          18,
          11,
          16,
          12,
          2,
          4,
          21,
          4,
          32,
          7,
          5,
          23,
          23,
          14,
          13,
          28,
          35,
          16,
          12,
          7,
          25,
          22,
          22,
          32,
          35,
          28,
          18,
          11,
          40,
          10,
          40,
          7,
          24,
          36,
          34,
          44,
          44,
          30,
          23,
          5,
          25,
          14,
          5,
          20,
          1,
          13,
          15,
          35,
          20,
          12,
          7,
          7,
          32,
          13,
          15,
          33,
          48,
          38,
          28,
          18,
          24,
          27,
          24,
          16,
          44,
          14,
          16,
          18,
          18,
          15,
          41,
          28,
          24,
          13,
          22,
          18,
          40,
          17,
          17,
          20,
          30,
          30,
          22,
          7,
          23,
          8,
          31,
          30,
          26,
          24,
          12,
          37,
          16,
          23,
          9,
          14,
          8,
          41,
          5,
          30,
          12,
          24,
          19,
          20,
          23,
          3,
          20,
          45,
          31,
          23,
          7,
          23,
          25,
          28,
          36,
          14,
          41,
          15,
          34,
          20,
          20,
          35,
          25,
          38,
          16,
          6,
          14,
          34,
          8,
          17,
          27,
          13,
          42,
          11,
          12,
          43,
          18,
          17,
          4,
          40,
          14,
          32,
          13,
          34,
          10,
          25,
          11,
          40,
          29,
          30,
          20,
          12,
          20,
          29,
          15,
          37,
          11,
          19,
          13,
          41,
          11,
          26,
          7,
          21,
          1,
          26,
          1,
          12,
          3,
          5,
          5,
          6,
          1,
          6,
          38,
          38,
          37,
          26,
          42,
          42,
          10,
          16,
          34,
          17,
          12,
          24,
          3,
          3,
          14,
          3,
          32,
          9,
          34,
          5,
          10,
          2,
          34,
          17,
          10,
          44,
          11,
          3,
          2,
          25,
          12,
          10,
          8,
          5,
          12,
          6,
          9,
          2,
          7,
          26,
          13,
          27,
          3,
          8,
          8,
          2,
          4,
          1,
          4,
          5,
          12,
          4,
          7,
          5,
          5,
          3,
          8,
          3,
          4,
          25,
          31,
          5,
          11,
          8,
          24,
          3,
          16,
          7,
          25,
          19,
          31,
          7,
          1,
          21,
          5,
          4,
          15,
          10,
          8,
          18,
          10,
          6,
          30,
          19,
          30,
          38,
          4,
          7,
          4,
          2,
          5,
          21,
          12,
          4,
          11,
          5,
          45,
          31,
          38,
          35,
          12,
          12,
          34,
          20,
          3,
          18,
          20,
          6,
          9,
          3,
          7,
          12,
          12,
          10,
          9,
          3,
          2,
          40,
          5,
          15,
          13,
          10,
          2,
          23,
          15,
          30,
          15,
          11,
          27,
          9,
          1,
          15,
          16,
          3,
          19,
          18,
          4,
          14,
          8,
          10,
          33,
          9,
          26,
          15,
          31,
          22,
          30,
          3,
          4,
          4,
          9,
          7,
          3,
          5,
          48,
          3,
          5,
          5,
          3,
          6,
          10,
          9,
          26,
          33,
          12,
          11,
          10,
          9,
          17,
          37,
          28,
          16,
          2,
          34,
          7,
          4,
          12,
          20,
          17,
          0,
          7,
          13,
          4,
          3,
          5,
          19,
          12,
          10,
          18,
          18,
          44,
          5,
          18,
          12,
          6,
          13,
          10,
          20,
          32,
          32,
          8,
          25,
          18,
          31,
          30,
          8,
          18,
          16,
          29,
          30,
          8,
          22,
          15,
          20,
          18,
          36,
          11,
          3,
          22,
          16,
          44,
          20,
          5,
          8,
          2,
          10,
          7,
          11,
          18,
          8,
          37,
          12,
          11,
          7,
          23,
          5,
          22,
          35,
          6,
          14,
          37,
          32,
          30,
          10,
          9,
          14,
          19,
          6,
          28,
          10,
          37,
          41,
          18,
          14,
          12,
          26,
          19,
          22,
          27,
          27,
          25,
          10,
          7,
          7,
          24,
          10,
          3,
          28,
          23,
          37,
          18,
          5,
          42,
          20,
          33,
          25,
          14,
          10,
          21,
          8,
          42,
          10,
          40,
          13,
          39,
          9,
          26,
          24,
          14,
          12,
          35,
          14,
          18,
          32,
          23,
          22,
          29,
          30,
          15,
          10,
          12,
          25,
          29,
          40,
          34,
          18,
          22,
          12,
          10,
          15,
          39,
          18,
          18,
          16,
          18,
          4,
          4,
          39,
          16,
          23,
          14,
          12,
          40,
          44,
          8,
          23,
          11,
          8,
          45,
          19,
          19,
          7,
          8,
          34,
          20,
          12,
          13,
          13,
          4,
          3,
          17,
          10,
          26,
          12,
          2,
          11,
          19,
          4,
          9,
          15,
          25,
          7,
          29,
          28,
          3,
          9,
          42,
          17,
          29,
          7,
          15,
          15,
          43,
          44,
          11,
          31,
          21,
          35,
          7,
          3,
          0,
          10,
          39,
          5,
          36,
          18,
          17,
          40,
          5,
          26,
          34,
          11,
          43,
          24,
          15,
          11,
          38,
          20,
          9,
          7,
          47,
          17,
          45,
          9,
          18,
          28,
          10,
          24,
          14,
          31,
          3,
          9,
          38,
          35,
          5,
          3,
          5,
          13,
          4,
          10,
          10,
          23,
          38,
          4,
          13,
          35,
          2,
          5,
          13,
          25,
          9,
          20,
          10,
          17,
          46,
          3,
          23,
          3,
          42,
          35,
          4,
          12,
          20,
          4,
          8,
          1,
          41,
          0,
          1,
          8,
          44,
          11,
          8,
          5,
          5,
          7,
          12,
          20,
          3,
          6,
          42,
          22,
          3,
          29,
          8,
          4,
          32,
          2,
          24,
          23,
          40,
          14,
          5,
          44,
          12,
          9,
          30,
          2,
          3,
          25,
          9,
          10,
          2,
          23,
          19,
          34,
          8,
          21,
          11,
          20,
          10,
          27,
          25,
          9,
          19,
          26,
          11,
          36,
          6,
          33,
          35,
          42,
          28,
          11,
          42,
          33,
          42,
          25,
          6,
          41,
          34,
          27,
          17,
          44,
          42,
          1,
          35,
          42,
          4,
          1,
          18,
          6,
          15,
          24,
          25,
          40,
          31,
          20,
          0,
          5,
          15,
          5,
          36,
          18,
          22,
          2,
          4,
          10,
          36,
          9,
          15,
          5,
          5,
          4,
          3,
          12,
          5,
          6,
          7,
          35,
          15,
          5,
          12,
          23,
          10,
          1,
          20,
          14,
          1,
          6,
          26,
          18,
          4,
          13,
          33,
          28,
          4,
          42,
          39,
          7,
          38,
          19,
          29,
          35,
          18,
          8,
          20,
          34,
          29,
          8,
          4,
          15,
          6,
          20,
          35,
          44,
          17,
          3,
          40,
          18,
          23,
          10,
          18,
          42,
          38,
          5,
          25,
          26,
          11,
          16,
          40,
          7,
          17,
          44,
          6,
          8,
          31,
          26,
          20,
          22,
          11,
          8,
          40,
          13,
          3,
          10,
          18,
          5,
          16,
          10,
          10,
          3,
          40,
          35,
          28,
          16,
          19,
          11,
          10,
          4,
          2,
          5,
          31,
          28,
          9,
          12,
          17,
          37,
          35,
          35,
          10,
          42,
          27,
          5,
          5,
          3,
          37,
          14,
          21,
          7,
          27,
          1,
          31,
          42,
          45,
          34,
          9,
          3,
          2,
          36,
          27,
          39,
          9,
          47,
          13,
          28,
          26,
          34,
          28,
          17,
          10,
          21,
          15,
          15,
          11,
          37,
          43,
          37,
          24,
          17,
          16,
          36,
          37,
          38,
          9,
          36,
          41,
          10,
          33,
          5,
          1,
          47,
          8,
          6,
          12,
          26,
          14,
          13,
          39,
          10,
          27,
          5,
          6,
          32,
          1,
          8,
          15,
          1,
          25,
          15,
          7,
          1,
          12,
          3,
          2,
          3,
          2,
          16,
          32,
          20,
          17,
          15,
          19,
          37,
          29,
          5,
          7,
          23,
          5,
          29,
          13,
          10,
          12,
          7,
          9,
          4,
          26,
          15,
          19,
          22,
          12,
          11,
          6,
          13,
          8,
          7,
          12,
          11,
          41,
          7,
          9,
          40,
          7,
          9,
          13,
          33,
          17,
          3,
          8,
          3,
          9,
          30,
          5,
          13,
          5,
          9,
          8,
          20,
          3,
          5,
          20,
          2,
          7,
          5,
          46,
          10,
          27,
          39,
          13,
          27,
          7,
          18,
          6,
          11,
          10,
          28,
          2,
          45,
          9,
          13,
          40,
          10,
          15,
          12,
          20,
          8,
          13,
          3,
          7,
          18,
          13,
          36,
          4,
          8,
          24,
          31,
          16,
          10,
          10,
          12,
          20,
          13,
          9,
          15,
          34,
          8,
          3,
          19,
          10,
          13,
          7,
          21,
          10,
          20,
          25,
          4,
          35,
          15,
          24
         ],
         "y": [
          1.745715498924255,
          1.45395302772522,
          2.074429035186768,
          2.448415517807007,
          2.435366153717041,
          1.363537430763245,
          2.170195817947388,
          2.039920806884766,
          1.609437942504883,
          1.35840916633606,
          1.23837423324585,
          1.393766403198242,
          1.6370530128479,
          1.098612308502197,
          2.078190803527832,
          1.793424844741821,
          1.640936493873596,
          2.445819139480591,
          2.345644474029541,
          2.039920806884766,
          2.039920806884766,
          1.915450930595398,
          1.927164077758789,
          2.834976434707642,
          2.307572603225708,
          2.760642766952515,
          2.697326183319092,
          2.948640584945679,
          2.122261524200439,
          2.26384425163269,
          1.785070538520813,
          1.745715498924255,
          1.906575202941895,
          2.100468873977661,
          2.516889810562134,
          2.26384425163269,
          1.574846506118774,
          2.039920806884766,
          2.525728702545166,
          1.036736845970154,
          2.510411977767944,
          2.581730842590332,
          2.823163032531738,
          2.445819139480591,
          1.599387526512146,
          1.975468993186951,
          2.449279546737671,
          2.733067989349365,
          1.808288812637329,
          2.070652961730957,
          2.214846134185791,
          1.932969570159912,
          3.004692077636719,
          2.295560598373413,
          2.052840948104858,
          1.635105729103088,
          2.396985769271851,
          1.880990624427795,
          2.312535524368286,
          2.373975038528442,
          2.794227838516235,
          1.530394673347473,
          2.013568878173828,
          2.95647144317627,
          1.562346339225769,
          1.965712785720825,
          2.668616056442261,
          2.227861404418945,
          3.400530576705933,
          3.490123510360718,
          2.26384425163269,
          2.123458385467529,
          3.074081182479858,
          2.766319036483765,
          1.752672076225281,
          3.04404616355896,
          3.149311304092407,
          1.603419780731201,
          1.930071115493774,
          1.745715498924255,
          1.64673376083374,
          2.052840948104858,
          2.173614740371704,
          2.232162714004517,
          2.119863510131836,
          2.314513683319092,
          0.6830968260765076,
          2.109000205993652,
          1.619388222694397,
          1.879465103149414,
          1.497388362884521,
          2.074429035186768,
          1.832581520080566,
          1.418277382850647,
          1.906575202941895,
          2.039920806884766,
          1.470175862312317,
          2.039920806884766,
          1.570697069168091,
          1.656321406364441,
          0.7608059048652649,
          1.501852631568909,
          1.283707737922668,
          1.695615530014038,
          1.609437942504883,
          1.906575202941895,
          2.307572603225708,
          1.877937197685242,
          2.219203472137451,
          1.530394673347473,
          1.21491265296936,
          1.711994528770447,
          1.809926748275757,
          1.607435822486877,
          1.771556735038757,
          1.733423829078674,
          1.386294364929199,
          1.927164077758789,
          1.474763035774231,
          1.752672076225281,
          1.752672076225281,
          2.510411977767944,
          2.948640584945679,
          2.021547555923462,
          1.774952411651611,
          1.851599454879761,
          1.816452145576477,
          0.6523251533508301,
          1.184790015220642,
          0.7793248891830444,
          1.72633159160614,
          2.228938579559326,
          1.857859253883362,
          2.009555339813232,
          1.885553359985352,
          1.906575202941895,
          1.724550724029541,
          1.294727206230164,
          2.565718412399292,
          1.941615223884583,
          2.039920806884766,
          1.906575202941895,
          1.635105729103088,
          0.7608059048652649,
          1.510722041130066,
          2.208274364471436,
          2.280339479446411,
          1.289232730865479,
          1.975468993186951,
          2.362739086151123,
          1.530394673347473,
          1.877937197685242,
          2.4948570728302,
          1.975468993186951,
          1.832581520080566,
          1.348073124885559,
          1.108562588691711,
          0.69813472032547,
          1.360976576805115,
          1.848454833030701,
          0.6931471824645996,
          2.039920806884766,
          0.9669839143753052,
          1.609437942504883,
          1.877937197685242,
          1.64673376083374,
          2.277267217636108,
          1.033184409141541,
          1.530394673347473,
          1.991975545883179,
          2.039920806884766,
          1.181727170944214,
          1.752672076225281,
          1.720979332923889,
          1.635105729103088,
          2.690564870834351,
          1.300191640853882,
          2.275213956832886,
          1.241268634796143,
          1.851599454879761,
          1.884034752845764,
          2.317473649978638,
          2.222459077835083,
          1.909542560577393,
          2.324346542358398,
          1.560247659683228,
          0.5653138160705566,
          2.5439612865448,
          1.766441702842712,
          1.15373158454895,
          1.790091395378113,
          1.530394673347473,
          0.5877866148948669,
          1.783391237258911,
          2.009555339813232,
          2.163322925567627,
          1.321755886077881,
          2.039920806884766,
          1.656321406364441,
          2.312535524368286,
          1.321755886077881,
          1.756132245063782,
          1.621366500854492,
          2.074429035186768,
          2.551006317138672,
          2.135349273681641,
          1.324418902397156,
          1.050821542739868,
          2.468946695327759,
          2.039920806884766,
          1.975468993186951,
          1.057790279388428,
          1.745715498924255,
          1.501852631568909,
          2.258633136749268,
          1.283707737922668,
          2.050270080566406,
          2.222459077835083,
          1.719188809394836,
          1.675225734710693,
          1.64287269115448,
          1.857859253883362,
          2.001480102539063,
          1.909542560577393,
          2.135349273681641,
          1.528227925300598,
          2.152924299240112,
          1.656321406364441,
          2.733067989349365,
          0.8628898859024048,
          1.905088067054749,
          2.240709543228149,
          2.059238910675049,
          2.70805025100708,
          1.547562479972839,
          2.423031330108643,
          2.482403516769409,
          2.63834285736084,
          1.098612308502197,
          1.226712346076965,
          2.26384425163269,
          1.906575202941895,
          2.26384425163269,
          1.64673376083374,
          1.530394673347473,
          1.615419983863831,
          2.286455631256104,
          1.665818214416504,
          2.396985769271851,
          1.957273840904236,
          2.100468873977661,
          1.771556735038757,
          2.069391250610352,
          1.490654349327087,
          1.893111944198608,
          2.760010004043579,
          2.222459077835083,
          2.551006317138672,
          2.651832580566406,
          2.445819139480591,
          2.240709543228149,
          2.340843915939331,
          1.711994528770447,
          2.061786651611328,
          2.100468873977661,
          1.398716926574707,
          2.055404901504517,
          0.940007209777832,
          2.563409566879272,
          3.72978138923645,
          1.570697069168091,
          0.2776317894458771,
          1.311031937599182,
          1.570697069168091,
          1.543298125267029,
          2.105352878570557,
          1.393766403198242,
          1.570697069168091,
          2.749192237854004,
          2.039920806884766,
          1.969905614852905,
          2.089391946792603,
          2.200552225112915,
          1.909542560577393,
          2.13298225402832,
          1.791759490966797,
          1.816452145576477,
          1.41098690032959,
          2.651127099990845,
          1.857859253883362,
          3.436886310577393,
          2.331172466278076,
          1.621366500854492,
          1.851599454879761,
          1.091923356056213,
          2.586259126663208,
          1.435084462165833,
          2.188295841217041,
          0.9669839143753052,
          3.267284870147705,
          2.020222187042236,
          2.157559394836426,
          3.04404616355896,
          2.328252792358398,
          2.145931243896484,
          0.7323678731918335,
          1.098612308502197,
          1.793424844741821,
          2.307572603225708,
          1.745715498924255,
          1.780024170875549,
          1.501852631568909,
          1.733423829078674,
          2.321406841278076,
          3.04404616355896,
          2.202764749526978,
          1.366091728210449,
          1.45395302772522,
          1.011600971221924,
          1.057790279388428,
          1.857859253883362,
          2.039920806884766,
          1.321755886077881,
          1.857859253883362,
          2.445819139480591,
          2.433613300323486,
          0.7884573936462402,
          0.5007752776145935,
          1.885553359985352,
          2.403335094451904,
          0.4885800182819366,
          1.275362730026245,
          2.510411977767944,
          1.896119475364685,
          2.354228258132935,
          0.6523251533508301,
          2.95647144317627,
          1.975468993186951,
          3.244153499603271,
          1.348073124885559,
          2.396985769271851,
          2.304583072662354,
          1.669591784477234,
          1.972691178321838,
          1.340250372886658,
          2.26384425163269,
          2.26384425163269,
          1.348073124885559,
          2.01490306854248,
          1.934415817260742,
          2.039920806884766,
          2.222459077835083,
          0.2390168905258179,
          1.572773933410645,
          1.909542560577393,
          2.145931243896484,
          1.857859253883362,
          2.006870746612549,
          0.2776317894458771,
          1.570697069168091,
          2.663749933242798,
          0.8754687905311584,
          1.124929547309875,
          2.366498470306396,
          2.039920806884766,
          0.9321640729904175,
          1.853168129920959,
          1.570697069168091,
          1.340250372886658,
          2.001480102539063,
          2.039920806884766,
          2.109000205993652,
          0.9669839143753052,
          1.669591784477234,
          1.098612308502197,
          1.740466117858887,
          2.861629247665405,
          1.35840916633606,
          2.78130054473877,
          2.907993316650391,
          2.343727111816406,
          3.208017110824585,
          2.029463291168213,
          2.302585124969482,
          0.5187937617301941,
          1.6292405128479,
          2.043814420700073,
          2.599722385406494,
          2.861057281494141,
          0.6523251533508301,
          1.627277851104736,
          1.851599454879761,
          1.695615530014038,
          1.340250372886658,
          3.037833452224731,
          1.824549317359924,
          3.266522407531738,
          0.9162907600402832,
          2.091864109039307,
          1.826160907745361,
          1.656321406364441,
          1.717395067214966,
          2.028148174285889,
          2.861629247665405,
          2.312535524368286,
          1.465567469596863,
          1.682688355445862,
          1.740466117858887,
          2.755569696426392,
          1.150572061538696,
          2.032087802886963,
          2.039920806884766,
          1.272565603256226,
          1.778336405754089,
          2.574137687683105,
          3.659965515136719,
          0.6523251533508301,
          2.314513683319092,
          2.551006317138672,
          1.702928185462952,
          2.693951368331909,
          2.321406841278076,
          0.7466878890991211,
          2.227861404418945,
          1.673351168632507,
          2.211565732955933,
          2.291524171829224,
          1.851599454879761,
          1.386294364929199,
          1.627277851104736,
          1.635105729103088,
          0.9042181372642517,
          1.190887570381165,
          1.37371563911438,
          1.111857533454895,
          0.8197798132896423,
          1.205970764160156,
          1.589235186576843,
          1.975468993186951,
          1.235471487045288,
          0.8754687905311584,
          2.111424684524536,
          2.368372917175293,
          1.530394673347473,
          2.021547555923462,
          1.909542560577393,
          2.039920806884766,
          1.981001496315002,
          2.167910099029541,
          1.530394673347473,
          1.202972292900085,
          1.570697069168091,
          1.521698951721191,
          1.408545017242432,
          0.604315996170044,
          1.202972292900085,
          1.551808714866638,
          1.118414878845215,
          1.599387526512146,
          2.445819139480591,
          1.7281094789505,
          1.398716926574707,
          0.148419976234436,
          1.41098690032959,
          0.9001613855361938,
          1.41342306137085,
          1.809926748275757,
          1.497388362884521,
          1.530394673347473,
          0.2468600571155548,
          1.48160457611084,
          0.2390168905258179,
          1.37371563911438,
          1.291983723640442,
          1.321755886077881,
          1.166270971298218,
          0.9669839143753052,
          1.729884028434753,
          1.098612308502197,
          0.6830968260765076,
          1.570697069168091,
          0.9669839143753052,
          1.150572061538696,
          1.835776329040527,
          1.398716926574707,
          0.6830968260765076,
          0.7793248891830444,
          0.9669839143753052,
          0.8878912925720215,
          0.6830968260765076,
          1.408545017242432,
          0.9162907600402832,
          0.9202827215194702,
          1.348073124885559,
          1.635105729103088,
          1.570697069168091,
          1.570697069168091,
          1.955860495567322,
          0.8372474908828735,
          1.35840916633606,
          0.6830968260765076,
          1.321755886077881,
          0.2231435477733612,
          2.032087802886963,
          1.877937197685242,
          2.574899673461914,
          1.48160457611084,
          2.039920806884766,
          1.348073124885559,
          2.039920806884766,
          1.609437942504883,
          2.190535545349121,
          1.627277851104736,
          1.150572061538696,
          2.358965396881104,
          1.927164077758789,
          0.7608059048652649,
          1.635105729103088,
          0.6678293943405151,
          0.6523251533508301,
          0.9745596647262573,
          0.9631742835044861,
          2.068127870559692,
          2.145931243896484,
          2.13298225402832,
          2.074429035186768,
          1.975468993186951,
          1.54115903377533,
          1.45395302772522,
          1.283707737922668,
          0.6523251533508301,
          0.5187937617301941,
          1.495148777961731,
          0.7466878890991211,
          1.337629199028015,
          1.832581520080566,
          1.124929547309875,
          1.684545397758484,
          1.991975545883179,
          1.593308568000793,
          2.291524171829224,
          1.091923356056213,
          1.07158362865448,
          1.427916049957275,
          1.205970764160156,
          0.8153648376464844,
          2.314513683319092,
          1.848454833030701,
          2.054123640060425,
          1.321755886077881,
          1.278152227401733,
          1.508512020111084,
          1.497388362884521,
          1.665818214416504,
          1.665818214416504,
          1.570697069168091,
          0.6830968260765076,
          1.15373158454895,
          1.057790279388428,
          1.244154572486877,
          1.366091728210449,
          1.241268634796143,
          1.599387526512146,
          0.7793248891830444,
          1.41098690032959,
          0.9631742835044861,
          1.885553359985352,
          1.376244068145752,
          1.570697069168091,
          1.321755886077881,
          1.993338823318481,
          1.075002431869507,
          1.244154572486877,
          1.729884028434753,
          1.321755886077881,
          1.695615530014038,
          1.408545017242432,
          1.321755886077881,
          1.906575202941895,
          1.187843441963196,
          1.272565603256226,
          1.793424844741821,
          1.530394673347473,
          1.92278778553009,
          1.857859253883362,
          1.235471487045288,
          1.348073124885559,
          1.967112421989441,
          1.398716926574707,
          1.068153142929077,
          0.6523251533508301,
          1.48613965511322,
          2.138889074325562,
          1.45395302772522,
          1.202972292900085,
          2.135349273681641,
          2.157559394836426,
          0.148419976234436,
          0.6830968260765076,
          0.9439058899879456,
          0.9477893710136414,
          0.9202827215194702,
          4.353112697601318,
          1.465567469596863,
          1.408545017242432,
          1.745715498924255,
          1.570697069168091,
          2.039920806884766,
          1.745715498924255,
          1.771556735038757,
          1.451613783836365,
          2.26384425163269,
          2.236445188522339,
          1.37371563911438,
          1.745715498924255,
          0.9555113911628723,
          1.321755886077881,
          1.724550724029541,
          1.745715498924255,
          1.348073124885559,
          1.057790279388428,
          1.011600971221924,
          2.448415517807007,
          1.465567469596863,
          1.011600971221924,
          1.675225734710693,
          1.880990624427795,
          1.543298125267029,
          0.6830968260765076,
          2.074429035186768,
          1.583093881607056,
          1.150572061538696,
          1.832581520080566,
          1.098612308502197,
          1.321755886077881,
          1.321755886077881,
          1.877937197685242,
          1.432700753211975,
          1.680827856063843,
          0.7608059048652649,
          1.570697069168091,
          1.261297821998596,
          1.465567469596863,
          1.813194751739502,
          2.173614740371704,
          2.105352878570557,
          0.8712934255599976,
          1.521698951721191,
          1.941615223884583,
          2.314513683319092,
          1.321755886077881,
          1.258460998535156,
          2.129421472549438,
          2.074429035186768,
          2.109000205993652,
          1.169381380081177,
          2.074429035186768,
          2.157559394836426,
          1.451613783836365,
          2.538447380065918,
          2.074429035186768,
          1.24990177154541,
          2.314513683319092,
          1.124929547309875,
          2.074429035186768,
          1.011600971221924,
          1.220829963684082,
          1.702928185462952,
          1.451613783836365,
          1.742218971252441,
          1.241268634796143,
          2.733067989349365,
          2.129421472549438,
          2.314513683319092,
          1.348073124885559,
          1.530394673347473,
          1.226712346076965,
          2.358965396881104,
          2.312535524368286,
          2.074429035186768,
          1.918392062187195,
          1.975468993186951,
          1.857859253883362,
          1.562346339225769,
          1.800058245658875,
          1.321755886077881,
          2.214846134185791,
          1.202972292900085,
          1.562346339225769,
          1.756132245063782,
          1.376244068145752,
          1.857859253883362,
          1.713797926902771,
          2.54474663734436,
          2.039920806884766,
          2.100468873977661,
          1.856297969818115,
          1.272565603256226,
          1.885553359985352,
          2.039920806884766,
          2.328252792358398,
          1.957273840904236,
          2.343727111816406,
          2.089391946792603,
          1.599387526512146,
          2.28340220451355,
          1.752672076225281,
          1.570697069168091,
          2.480731248855591,
          1.811562061309814,
          1.521698951721191,
          0.8153648376464844,
          1.474763035774231,
          2.042518138885498,
          2.074429035186768,
          2.189416408538818,
          2.507157325744629,
          1.745715498924255,
          1.982379913330078,
          1.553925156593323,
          1.682688355445862,
          2.197224617004395,
          1.591273903846741,
          2.660958528518677,
          2.276241064071655,
          1.418277382850647,
          1.321755886077881,
          1.660131096839905,
          3.079153776168823,
          2.175887584686279,
          2.100468873977661,
          2.01490306854248,
          1.229640603065491,
          2.184926986694336,
          1.425515055656433,
          2.100468873977661,
          2.094330072402954,
          2.314513683319092,
          2.525728702545166,
          1.465567469596863,
          1.648658633232117,
          2.26384425163269,
          2.774461984634399,
          2.227861404418945,
          1.033184409141541,
          1.975468993186951,
          2.079441547393799,
          2.396985769271851,
          1.497388362884521,
          1.955860495567322,
          0.5068175792694092,
          2.070652961730957,
          1.654411315917969,
          2.074429035186768,
          1.950186729431152,
          1.321755886077881,
          1.665818214416504,
          1.495148777961731,
          2.074429035186768,
          1.695615530014038,
          1.927164077758789,
          2.332144021987915,
          2.080690860748291,
          1.832581520080566,
          2.074429035186768,
          1.368639469146729,
          2.047692775726318,
          1.458615064620972,
          1.589235186576843,
          1.715598106384277,
          1.745715498924255,
          1.740466117858887,
          1.519513249397278,
          1.423108339309692,
          1.54968786239624,
          1.975468993186951,
          1.951608180999756,
          0.3920421004295349,
          1.21491265296936,
          2.26384425163269,
          1.321755886077881,
          1.965712785720825,
          1.944480538368225,
          2.135349273681641,
          1.560247659683228,
          1.360976576805115,
          1.752672076225281,
          2.167910099029541,
          1.880990624427795,
          1.444563269615173,
          1.408545017242432,
          3.04404616355896,
          2.039920806884766,
          1.521698951721191,
          1.870262503623962,
          2.551006317138672,
          2.26384425163269,
          2.184926986694336,
          2.358965396881104,
          1.975468993186951,
          0.5007752776145935,
          2.358965396881104,
          1.111857533454895,
          1.515127301216125,
          2.039920806884766,
          1.098612308502197,
          2.486572027206421,
          1.790091395378113,
          2.190535545349121,
          1.386294364929199,
          0.6830968260765076,
          0.2390168905258179,
          1.717395067214966,
          1.996059894561768,
          1.124929547309875,
          2.265921115875244,
          1.627277851104736,
          2.314513683319092,
          2.26384425163269,
          1.752672076225281,
          2.118662118911743,
          1.745715498924255,
          1.745715498924255,
          1.975468993186951,
          2.172476291656494,
          2.074429035186768,
          2.26384425163269,
          2.008213996887207,
          2.915606260299683,
          2.180417537689209,
          2.079441547393799,
          1.745715498924255,
          2.361796855926514,
          1.92278778553009,
          2.051556348800659,
          1.437462687492371,
          2.314513683319092,
          1.715598106384277,
          1.752672076225281,
          1.348073124885559,
          1.465567469596863,
          1.408545017242432,
          2.039920806884766,
          1.94304895401001,
          1.738710284233093,
          0.1823215931653976,
          2.012232780456543,
          1.141033053398132,
          1.724550724029541,
          1.184790015220642,
          1.832581520080566,
          2.039920806884766,
          1.386294364929199,
          1.539015412330627,
          1.340250372886658,
          1.656321406364441,
          1.635105729103088,
          1.21491265296936,
          1.857859253883362,
          1.570697069168091,
          1.724550724029541,
          2.075684547424316,
          1.321755886077881,
          1.638996720314026,
          1.752672076225281,
          1.597365379333496,
          1.321755886077881,
          0.6830968260765076,
          0.9242588877677917,
          1.075002431869507,
          1.627277851104736,
          0.8754687905311584,
          1.583093881607056,
          1.885553359985352,
          0.1823215931653976,
          1.202972292900085,
          0.6729444861412048,
          1.00430166721344,
          0.9669839143753052,
          1.321755886077881,
          1.124929547309875,
          1.451613783836365,
          1.504077434539795,
          1.710187911987305,
          1.408545017242432,
          1.515127301216125,
          2.930660247802734,
          1.415853142738342,
          1.752672076225281,
          1.570697069168091,
          1.752672076225281,
          1.570697069168091,
          2.157559394836426,
          0.6523251533508301,
          1.780024170875549,
          1.793424844741821,
          1.208960294723511,
          1.793424844741821,
          1.08518922328949,
          2.381396293640137,
          1.570697069168091,
          2.173614740371704,
          2.451005220413208,
          1.570697069168091,
          1.321755886077881,
          1.665818214416504,
          1.8718022108078,
          1.761300325393677,
          0.5822156071662903,
          1.45395302772522,
          0.6830968260765076,
          0.8372474908828735,
          1.252762913703918,
          1.474763035774231,
          0.8153648376464844,
          1.321755886077881,
          1.321755886077881,
          0.9707789421081543,
          0.8153648376464844,
          0.604315996170044,
          1.057790279388428,
          0.6830968260765076,
          0.6830968260765076,
          0.6830968260765076,
          1.21491265296936,
          0.6830968260765076,
          0.6523251533508301,
          1.21491265296936,
          1.321755886077881,
          1.321755886077881,
          1.885553359985352,
          1.321755886077881,
          2.074429035186768,
          1.321755886077881,
          1.888583660125732,
          2.157559394836426,
          1.61342990398407,
          2.445819139480591,
          1.774952411651611,
          1.321755886077881,
          2.163322925567627,
          3.06991171836853,
          1.184790015220642,
          1.193922400474548,
          1.702928185462952,
          0.8754687905311584,
          1.408545017242432,
          0.6830968260765076,
          1.975468993186951,
          2.140066146850586,
          0.6830968260765076,
          1.971299409866333,
          1.570697069168091,
          1.656321406364441,
          2.211565732955933,
          1.321755886077881,
          2.039920806884766,
          2.151762247085571,
          1.665818214416504,
          0.8754687905311584,
          1.166270971298218,
          1.897619843482971,
          1.348073124885559,
          2.138889074325562,
          1.975468993186951,
          1.202972292900085,
          1.451613783836365,
          1.057790279388428,
          1.408545017242432,
          1.011600971221924,
          1.415853142738342,
          2.26384425163269,
          1.710187911987305,
          1.38879132270813,
          1.226712346076965,
          1.934415817260742,
          1.321755886077881,
          2.074429035186768,
          1.321755886077881,
          1.45395302772522,
          0.8372474908828735,
          1.335001111030579,
          1.408545017242432,
          1.348073124885559,
          1.321755886077881,
          1.098612308502197,
          1.376244068145752,
          2.145931243896484,
          1.321755886077881,
          1.791759490966797,
          1.570697069168091,
          0.9162907600402832,
          1.463255405426025,
          0.2390168905258179,
          1.752672076225281,
          1.435084462165833,
          2.620311260223389,
          0.940007209777832,
          1.635105729103088,
          1.975468993186951,
          1.444563269615173,
          1.41098690032959,
          2.140066146850586,
          1.78170919418335,
          2.355177640914917,
          1.252762913703918,
          1.783391237258911,
          2.184926986694336,
          1.745715498924255,
          0.04879011958837509,
          1.348073124885559,
          1.057790279388428,
          2.13298225402832,
          1.283707737922668,
          1.752672076225281,
          1.202972292900085,
          2.074429035186768,
          1.501852631568909,
          0.8671005368232727,
          1.625311255455017,
          1.669591784477234,
          1.669591784477234,
          1.877937197685242,
          2.005525827407837,
          1.665818214416504,
          2.406043767929077,
          1.202972292900085,
          1.184790015220642,
          1.348073124885559,
          2.084429025650024,
          1.530394673347473,
          2.074429035186768,
          1.578978657722473,
          1.941615223884583,
          1.570697069168091,
          1.105256795883179,
          1.381281852722168,
          1.715598106384277,
          1.990610361099243,
          2.039920806884766,
          1.838961005210876,
          2.26384425163269,
          2.032087802886963,
          1.456286668777466,
          3.244153499603271,
          1.444563269615173,
          1.353254437446594,
          1.745715498924255,
          1.252762913703918,
          1.619388222694397,
          2.074429035186768,
          2.074429035186768,
          1.226712346076965,
          1.745715498924255,
          2.184926986694336,
          1.570697069168091,
          1.570697069168091,
          1.321755886077881,
          2.596000671386719,
          1.627277851104736,
          1.057790279388428,
          1.166270971298218,
          1.515127301216125,
          1.752672076225281,
          2.180417537689209,
          1.483874678611755,
          1.451613783836365,
          2.314513683319092,
          1.665818214416504,
          1.745715498924255,
          2.032087802886963,
          2.039920806884766,
          1.805004715919495,
          2.013568878173828,
          1.851599454879761,
          1.857859253883362,
          0.6830968260765076,
          1.348073124885559,
          1.953027606010437,
          1.635105729103088,
          1.848454833030701,
          1.900613903999329,
          1.530394673347473,
          1.61342990398407,
          1.442201972007751,
          1.465567469596863,
          1.877937197685242,
          1.964311242103577,
          1.348073124885559,
          0.7747272253036499,
          1.665818214416504,
          1.870262503623962,
          2.321406841278076,
          1.756132245063782,
          1.340250372886658,
          2.528923511505127,
          2.039920806884766,
          2.145931243896484,
          1.778336405754089,
          2.620311260223389,
          0.751416027545929,
          2.78130054473877,
          0.2776317894458771,
          0.5822156071662903,
          0.8415671586990356,
          1.308332800865173,
          1.909542560577393,
          2.13298225402832,
          3.267284870147705,
          2.183801651000977,
          0.9162907600402832,
          1.985130906105042,
          2.059238910675049,
          3.267284870147705,
          1.845300197601318,
          1.425515055656433,
          1.166270971298218,
          0.7030975222587585,
          2.222459077835083,
          0.9858168363571167,
          2.157559394836426,
          0.7323678731918335,
          1.832581520080566,
          0.6523251533508301,
          1.124929547309875,
          0.7466878890991211,
          1.241268634796143,
          1.570697069168091,
          1.21491265296936,
          1.752672076225281,
          1.205970764160156,
          1.982379913330078,
          1.316408276557922,
          0.7929925322532654,
          1.07158362865448,
          1.261297821998596,
          0.5877866148948669,
          0.9555113911628723,
          0.157003715634346,
          0.6312717795372009,
          1.057790279388428,
          0.6523251533508301,
          0.6312717795372009,
          1.21491265296936,
          0.5988365411758423,
          0.3784364759922028,
          0.8153648376464844,
          0.7275485992431641,
          1.264126658439636,
          0.2311117202043533,
          0.8153648376464844,
          1.37371563911438,
          0.9745596647262573,
          1.321755886077881,
          0.8153648376464844,
          0.783901572227478,
          0.783901572227478,
          1.166270971298218,
          0.9042181372642517,
          1.098612308502197,
          1.321755886077881,
          0.6931471824645996,
          0.8153648376464844,
          1.057790279388428,
          1.545432567596436,
          1.37371563911438,
          1.877937197685242,
          1.272565603256226,
          1.669591784477234,
          0.9669839143753052,
          1.465567469596863,
          0.8109301924705505,
          1.011600971221924,
          1.190887570381165,
          1.752672076225281,
          1.556037068367004,
          1.415853142738342,
          1.061256527900696,
          1.940179467201233,
          1.857859253883362,
          1.45395302772522,
          0.2468600571155548,
          0.940007209777832,
          1.530394673347473,
          0.6830968260765076,
          0.6523251533508301,
          0.5877866148948669,
          0.6830968260765076,
          0.6931471824645996,
          0.7466878890991211,
          0.7466878890991211,
          1.018847346305847,
          1.241268634796143,
          1.791759490966797,
          1.570697069168091,
          0.8458682298660278,
          1.272565603256226,
          0.6830968260765076,
          1.635105729103088,
          1.497388362884521,
          0.7275485992431641,
          1.941615223884583,
          0.6830968260765076,
          1.530394673347473,
          1.166270971298218,
          0.5877866148948669,
          1.530394673347473,
          1.809926748275757,
          1.745715498924255,
          1.272565603256226,
          0.4574248790740967,
          1.437462687492371,
          0.5596157908439636,
          0.7654678821563721,
          0.01980260945856571,
          0.8754687905311584,
          1.040276646614075,
          1.190887570381165,
          0.6830968260765076,
          3.142426729202271,
          1.702928185462952,
          1.098612308502197,
          1.190887570381165,
          1.057790279388428,
          0.9669839143753052,
          1.761300325393677,
          0.08617772907018661,
          0.2468600571155548,
          1.832581520080566,
          1.057790279388428,
          2.039920806884766,
          1.965712785720825,
          1.935859799385071,
          0.4446857869625092,
          0.6830968260765076,
          2.169053792953491,
          1.570697069168091,
          1.54968786239624,
          1.583093881607056,
          1.530394673347473,
          0.8754687905311584,
          1.675225734710693,
          1.437462687492371,
          1.551808714866638,
          2.551006317138672,
          1.906575202941895,
          1.684545397758484,
          1.669591784477234,
          2.358965396881104,
          2.157559394836426,
          1.427916049957275,
          1.918392062187195,
          2.26384425163269,
          0.1988508850336075,
          0.5822156071662903,
          0.4762341976165771,
          0.5187937617301941,
          1.190887570381165,
          0.8372474908828735,
          0.6523251533508301
         ]
        },
        {
         "mode": "lines",
         "name": "Regression Line",
         "type": "scatter",
         "x": [
          0,
          0.48484848484848486,
          0.9696969696969697,
          1.4545454545454546,
          1.9393939393939394,
          2.4242424242424243,
          2.909090909090909,
          3.393939393939394,
          3.878787878787879,
          4.363636363636363,
          4.848484848484849,
          5.333333333333334,
          5.818181818181818,
          6.303030303030303,
          6.787878787878788,
          7.272727272727273,
          7.757575757575758,
          8.242424242424242,
          8.727272727272727,
          9.212121212121213,
          9.696969696969697,
          10.181818181818182,
          10.666666666666668,
          11.151515151515152,
          11.636363636363637,
          12.121212121212121,
          12.606060606060606,
          13.090909090909092,
          13.575757575757576,
          14.06060606060606,
          14.545454545454547,
          15.030303030303031,
          15.515151515151516,
          16,
          16.484848484848484,
          16.96969696969697,
          17.454545454545453,
          17.93939393939394,
          18.424242424242426,
          18.90909090909091,
          19.393939393939394,
          19.87878787878788,
          20.363636363636363,
          20.848484848484848,
          21.333333333333336,
          21.81818181818182,
          22.303030303030305,
          22.78787878787879,
          23.272727272727273,
          23.757575757575758,
          24.242424242424242,
          24.727272727272727,
          25.21212121212121,
          25.6969696969697,
          26.181818181818183,
          26.666666666666668,
          27.151515151515152,
          27.636363636363637,
          28.12121212121212,
          28.606060606060606,
          29.090909090909093,
          29.575757575757578,
          30.060606060606062,
          30.545454545454547,
          31.03030303030303,
          31.515151515151516,
          32,
          32.484848484848484,
          32.96969696969697,
          33.45454545454545,
          33.93939393939394,
          34.42424242424242,
          34.90909090909091,
          35.3939393939394,
          35.87878787878788,
          36.36363636363637,
          36.84848484848485,
          37.333333333333336,
          37.81818181818182,
          38.303030303030305,
          38.78787878787879,
          39.27272727272727,
          39.75757575757576,
          40.24242424242424,
          40.72727272727273,
          41.21212121212121,
          41.696969696969695,
          42.18181818181818,
          42.66666666666667,
          43.151515151515156,
          43.63636363636364,
          44.121212121212125,
          44.60606060606061,
          45.09090909090909,
          45.57575757575758,
          46.06060606060606,
          46.54545454545455,
          47.03030303030303,
          47.515151515151516,
          48
         ],
         "y": [
          1.0513049512122836,
          1.0603272894008287,
          1.0693496275893737,
          1.0783719657779187,
          1.087394303966464,
          1.096416642155009,
          1.1054389803435543,
          1.1144613185320993,
          1.1234836567206443,
          1.1325059949091894,
          1.1415283330977344,
          1.1505506712862796,
          1.1595730094748247,
          1.1685953476633697,
          1.1776176858519147,
          1.18664002404046,
          1.195662362229005,
          1.20468470041755,
          1.213707038606095,
          1.22272937679464,
          1.2317517149831851,
          1.2407740531717304,
          1.2497963913602756,
          1.2588187295488207,
          1.2678410677373657,
          1.2768634059259107,
          1.2858857441144558,
          1.294908082303001,
          1.303930420491546,
          1.3129527586800913,
          1.3219750968686363,
          1.3309974350571814,
          1.3400197732457264,
          1.3490421114342714,
          1.3580644496228165,
          1.3670867878113617,
          1.3761091259999065,
          1.3851314641884518,
          1.394153802376997,
          1.4031761405655419,
          1.412198478754087,
          1.4212208169426321,
          1.4302431551311772,
          1.4392654933197222,
          1.4482878315082677,
          1.4573101696968123,
          1.4663325078853577,
          1.4753548460739028,
          1.4843771842624478,
          1.4933995224509928,
          1.5024218606395379,
          1.511444198828083,
          1.520466537016628,
          1.5294888752051734,
          1.5385112133937184,
          1.5475335515822635,
          1.5565558897708085,
          1.5655782279593535,
          1.574600566147899,
          1.583622904336444,
          1.592645242524989,
          1.601667580713534,
          1.6106899189020791,
          1.619712257090624,
          1.6287345952791692,
          1.6377569334677142,
          1.6467792716562593,
          1.6558016098448043,
          1.6648239480333493,
          1.6738462862218946,
          1.6828686244104396,
          1.6918909625989846,
          1.70091330078753,
          1.7099356389760754,
          1.7189579771646204,
          1.727980315353165,
          1.7370026535417105,
          1.7460249917302555,
          1.7550473299188,
          1.7640696681073456,
          1.7730920062958906,
          1.7821143444844356,
          1.7911366826729802,
          1.8001590208615257,
          1.8091813590500707,
          1.8182036972386157,
          1.8272260354271608,
          1.8362483736157058,
          1.8452707118042513,
          1.8542930499927963,
          1.8633153881813413,
          1.8723377263698864,
          1.8813600645584319,
          1.8903824027469769,
          1.899404740935522,
          1.908427079124067,
          1.9174494173126115,
          1.926471755501157,
          1.935494093689702,
          1.944516431878247
         ]
        }
       ],
       "layout": {
        "showlegend": true,
        "template": {
         "data": {
          "bar": [
           {
            "error_x": {
             "color": "#2a3f5f"
            },
            "error_y": {
             "color": "#2a3f5f"
            },
            "marker": {
             "line": {
              "color": "#E5ECF6",
              "width": 0.5
             },
             "pattern": {
              "fillmode": "overlay",
              "size": 10,
              "solidity": 0.2
             }
            },
            "type": "bar"
           }
          ],
          "barpolar": [
           {
            "marker": {
             "line": {
              "color": "#E5ECF6",
              "width": 0.5
             },
             "pattern": {
              "fillmode": "overlay",
              "size": 10,
              "solidity": 0.2
             }
            },
            "type": "barpolar"
           }
          ],
          "carpet": [
           {
            "aaxis": {
             "endlinecolor": "#2a3f5f",
             "gridcolor": "white",
             "linecolor": "white",
             "minorgridcolor": "white",
             "startlinecolor": "#2a3f5f"
            },
            "baxis": {
             "endlinecolor": "#2a3f5f",
             "gridcolor": "white",
             "linecolor": "white",
             "minorgridcolor": "white",
             "startlinecolor": "#2a3f5f"
            },
            "type": "carpet"
           }
          ],
          "choropleth": [
           {
            "colorbar": {
             "outlinewidth": 0,
             "ticks": ""
            },
            "type": "choropleth"
           }
          ],
          "contour": [
           {
            "colorbar": {
             "outlinewidth": 0,
             "ticks": ""
            },
            "colorscale": [
             [
              0,
              "#0d0887"
             ],
             [
              0.1111111111111111,
              "#46039f"
             ],
             [
              0.2222222222222222,
              "#7201a8"
             ],
             [
              0.3333333333333333,
              "#9c179e"
             ],
             [
              0.4444444444444444,
              "#bd3786"
             ],
             [
              0.5555555555555556,
              "#d8576b"
             ],
             [
              0.6666666666666666,
              "#ed7953"
             ],
             [
              0.7777777777777778,
              "#fb9f3a"
             ],
             [
              0.8888888888888888,
              "#fdca26"
             ],
             [
              1,
              "#f0f921"
             ]
            ],
            "type": "contour"
           }
          ],
          "contourcarpet": [
           {
            "colorbar": {
             "outlinewidth": 0,
             "ticks": ""
            },
            "type": "contourcarpet"
           }
          ],
          "heatmap": [
           {
            "colorbar": {
             "outlinewidth": 0,
             "ticks": ""
            },
            "colorscale": [
             [
              0,
              "#0d0887"
             ],
             [
              0.1111111111111111,
              "#46039f"
             ],
             [
              0.2222222222222222,
              "#7201a8"
             ],
             [
              0.3333333333333333,
              "#9c179e"
             ],
             [
              0.4444444444444444,
              "#bd3786"
             ],
             [
              0.5555555555555556,
              "#d8576b"
             ],
             [
              0.6666666666666666,
              "#ed7953"
             ],
             [
              0.7777777777777778,
              "#fb9f3a"
             ],
             [
              0.8888888888888888,
              "#fdca26"
             ],
             [
              1,
              "#f0f921"
             ]
            ],
            "type": "heatmap"
           }
          ],
          "heatmapgl": [
           {
            "colorbar": {
             "outlinewidth": 0,
             "ticks": ""
            },
            "colorscale": [
             [
              0,
              "#0d0887"
             ],
             [
              0.1111111111111111,
              "#46039f"
             ],
             [
              0.2222222222222222,
              "#7201a8"
             ],
             [
              0.3333333333333333,
              "#9c179e"
             ],
             [
              0.4444444444444444,
              "#bd3786"
             ],
             [
              0.5555555555555556,
              "#d8576b"
             ],
             [
              0.6666666666666666,
              "#ed7953"
             ],
             [
              0.7777777777777778,
              "#fb9f3a"
             ],
             [
              0.8888888888888888,
              "#fdca26"
             ],
             [
              1,
              "#f0f921"
             ]
            ],
            "type": "heatmapgl"
           }
          ],
          "histogram": [
           {
            "marker": {
             "pattern": {
              "fillmode": "overlay",
              "size": 10,
              "solidity": 0.2
             }
            },
            "type": "histogram"
           }
          ],
          "histogram2d": [
           {
            "colorbar": {
             "outlinewidth": 0,
             "ticks": ""
            },
            "colorscale": [
             [
              0,
              "#0d0887"
             ],
             [
              0.1111111111111111,
              "#46039f"
             ],
             [
              0.2222222222222222,
              "#7201a8"
             ],
             [
              0.3333333333333333,
              "#9c179e"
             ],
             [
              0.4444444444444444,
              "#bd3786"
             ],
             [
              0.5555555555555556,
              "#d8576b"
             ],
             [
              0.6666666666666666,
              "#ed7953"
             ],
             [
              0.7777777777777778,
              "#fb9f3a"
             ],
             [
              0.8888888888888888,
              "#fdca26"
             ],
             [
              1,
              "#f0f921"
             ]
            ],
            "type": "histogram2d"
           }
          ],
          "histogram2dcontour": [
           {
            "colorbar": {
             "outlinewidth": 0,
             "ticks": ""
            },
            "colorscale": [
             [
              0,
              "#0d0887"
             ],
             [
              0.1111111111111111,
              "#46039f"
             ],
             [
              0.2222222222222222,
              "#7201a8"
             ],
             [
              0.3333333333333333,
              "#9c179e"
             ],
             [
              0.4444444444444444,
              "#bd3786"
             ],
             [
              0.5555555555555556,
              "#d8576b"
             ],
             [
              0.6666666666666666,
              "#ed7953"
             ],
             [
              0.7777777777777778,
              "#fb9f3a"
             ],
             [
              0.8888888888888888,
              "#fdca26"
             ],
             [
              1,
              "#f0f921"
             ]
            ],
            "type": "histogram2dcontour"
           }
          ],
          "mesh3d": [
           {
            "colorbar": {
             "outlinewidth": 0,
             "ticks": ""
            },
            "type": "mesh3d"
           }
          ],
          "parcoords": [
           {
            "line": {
             "colorbar": {
              "outlinewidth": 0,
              "ticks": ""
             }
            },
            "type": "parcoords"
           }
          ],
          "pie": [
           {
            "automargin": true,
            "type": "pie"
           }
          ],
          "scatter": [
           {
            "fillpattern": {
             "fillmode": "overlay",
             "size": 10,
             "solidity": 0.2
            },
            "type": "scatter"
           }
          ],
          "scatter3d": [
           {
            "line": {
             "colorbar": {
              "outlinewidth": 0,
              "ticks": ""
             }
            },
            "marker": {
             "colorbar": {
              "outlinewidth": 0,
              "ticks": ""
             }
            },
            "type": "scatter3d"
           }
          ],
          "scattercarpet": [
           {
            "marker": {
             "colorbar": {
              "outlinewidth": 0,
              "ticks": ""
             }
            },
            "type": "scattercarpet"
           }
          ],
          "scattergeo": [
           {
            "marker": {
             "colorbar": {
              "outlinewidth": 0,
              "ticks": ""
             }
            },
            "type": "scattergeo"
           }
          ],
          "scattergl": [
           {
            "marker": {
             "colorbar": {
              "outlinewidth": 0,
              "ticks": ""
             }
            },
            "type": "scattergl"
           }
          ],
          "scattermapbox": [
           {
            "marker": {
             "colorbar": {
              "outlinewidth": 0,
              "ticks": ""
             }
            },
            "type": "scattermapbox"
           }
          ],
          "scatterpolar": [
           {
            "marker": {
             "colorbar": {
              "outlinewidth": 0,
              "ticks": ""
             }
            },
            "type": "scatterpolar"
           }
          ],
          "scatterpolargl": [
           {
            "marker": {
             "colorbar": {
              "outlinewidth": 0,
              "ticks": ""
             }
            },
            "type": "scatterpolargl"
           }
          ],
          "scatterternary": [
           {
            "marker": {
             "colorbar": {
              "outlinewidth": 0,
              "ticks": ""
             }
            },
            "type": "scatterternary"
           }
          ],
          "surface": [
           {
            "colorbar": {
             "outlinewidth": 0,
             "ticks": ""
            },
            "colorscale": [
             [
              0,
              "#0d0887"
             ],
             [
              0.1111111111111111,
              "#46039f"
             ],
             [
              0.2222222222222222,
              "#7201a8"
             ],
             [
              0.3333333333333333,
              "#9c179e"
             ],
             [
              0.4444444444444444,
              "#bd3786"
             ],
             [
              0.5555555555555556,
              "#d8576b"
             ],
             [
              0.6666666666666666,
              "#ed7953"
             ],
             [
              0.7777777777777778,
              "#fb9f3a"
             ],
             [
              0.8888888888888888,
              "#fdca26"
             ],
             [
              1,
              "#f0f921"
             ]
            ],
            "type": "surface"
           }
          ],
          "table": [
           {
            "cells": {
             "fill": {
              "color": "#EBF0F8"
             },
             "line": {
              "color": "white"
             }
            },
            "header": {
             "fill": {
              "color": "#C8D4E3"
             },
             "line": {
              "color": "white"
             }
            },
            "type": "table"
           }
          ]
         },
         "layout": {
          "annotationdefaults": {
           "arrowcolor": "#2a3f5f",
           "arrowhead": 0,
           "arrowwidth": 1
          },
          "autotypenumbers": "strict",
          "coloraxis": {
           "colorbar": {
            "outlinewidth": 0,
            "ticks": ""
           }
          },
          "colorscale": {
           "diverging": [
            [
             0,
             "#8e0152"
            ],
            [
             0.1,
             "#c51b7d"
            ],
            [
             0.2,
             "#de77ae"
            ],
            [
             0.3,
             "#f1b6da"
            ],
            [
             0.4,
             "#fde0ef"
            ],
            [
             0.5,
             "#f7f7f7"
            ],
            [
             0.6,
             "#e6f5d0"
            ],
            [
             0.7,
             "#b8e186"
            ],
            [
             0.8,
             "#7fbc41"
            ],
            [
             0.9,
             "#4d9221"
            ],
            [
             1,
             "#276419"
            ]
           ],
           "sequential": [
            [
             0,
             "#0d0887"
            ],
            [
             0.1111111111111111,
             "#46039f"
            ],
            [
             0.2222222222222222,
             "#7201a8"
            ],
            [
             0.3333333333333333,
             "#9c179e"
            ],
            [
             0.4444444444444444,
             "#bd3786"
            ],
            [
             0.5555555555555556,
             "#d8576b"
            ],
            [
             0.6666666666666666,
             "#ed7953"
            ],
            [
             0.7777777777777778,
             "#fb9f3a"
            ],
            [
             0.8888888888888888,
             "#fdca26"
            ],
            [
             1,
             "#f0f921"
            ]
           ],
           "sequentialminus": [
            [
             0,
             "#0d0887"
            ],
            [
             0.1111111111111111,
             "#46039f"
            ],
            [
             0.2222222222222222,
             "#7201a8"
            ],
            [
             0.3333333333333333,
             "#9c179e"
            ],
            [
             0.4444444444444444,
             "#bd3786"
            ],
            [
             0.5555555555555556,
             "#d8576b"
            ],
            [
             0.6666666666666666,
             "#ed7953"
            ],
            [
             0.7777777777777778,
             "#fb9f3a"
            ],
            [
             0.8888888888888888,
             "#fdca26"
            ],
            [
             1,
             "#f0f921"
            ]
           ]
          },
          "colorway": [
           "#636efa",
           "#EF553B",
           "#00cc96",
           "#ab63fa",
           "#FFA15A",
           "#19d3f3",
           "#FF6692",
           "#B6E880",
           "#FF97FF",
           "#FECB52"
          ],
          "font": {
           "color": "#2a3f5f"
          },
          "geo": {
           "bgcolor": "white",
           "lakecolor": "white",
           "landcolor": "#E5ECF6",
           "showlakes": true,
           "showland": true,
           "subunitcolor": "white"
          },
          "hoverlabel": {
           "align": "left"
          },
          "hovermode": "closest",
          "mapbox": {
           "style": "light"
          },
          "paper_bgcolor": "white",
          "plot_bgcolor": "#E5ECF6",
          "polar": {
           "angularaxis": {
            "gridcolor": "white",
            "linecolor": "white",
            "ticks": ""
           },
           "bgcolor": "#E5ECF6",
           "radialaxis": {
            "gridcolor": "white",
            "linecolor": "white",
            "ticks": ""
           }
          },
          "scene": {
           "xaxis": {
            "backgroundcolor": "#E5ECF6",
            "gridcolor": "white",
            "gridwidth": 2,
            "linecolor": "white",
            "showbackground": true,
            "ticks": "",
            "zerolinecolor": "white"
           },
           "yaxis": {
            "backgroundcolor": "#E5ECF6",
            "gridcolor": "white",
            "gridwidth": 2,
            "linecolor": "white",
            "showbackground": true,
            "ticks": "",
            "zerolinecolor": "white"
           },
           "zaxis": {
            "backgroundcolor": "#E5ECF6",
            "gridcolor": "white",
            "gridwidth": 2,
            "linecolor": "white",
            "showbackground": true,
            "ticks": "",
            "zerolinecolor": "white"
           }
          },
          "shapedefaults": {
           "line": {
            "color": "#2a3f5f"
           }
          },
          "ternary": {
           "aaxis": {
            "gridcolor": "white",
            "linecolor": "white",
            "ticks": ""
           },
           "baxis": {
            "gridcolor": "white",
            "linecolor": "white",
            "ticks": ""
           },
           "bgcolor": "#E5ECF6",
           "caxis": {
            "gridcolor": "white",
            "linecolor": "white",
            "ticks": ""
           }
          },
          "title": {
           "x": 0.05
          },
          "xaxis": {
           "automargin": true,
           "gridcolor": "white",
           "linecolor": "white",
           "ticks": "",
           "title": {
            "standoff": 15
           },
           "zerolinecolor": "white",
           "zerolinewidth": 2
          },
          "yaxis": {
           "automargin": true,
           "gridcolor": "white",
           "linecolor": "white",
           "ticks": "",
           "title": {
            "standoff": 15
           },
           "zerolinecolor": "white",
           "zerolinewidth": 2
          }
         }
        },
        "title": {
         "text": "Linear Regression"
        },
        "xaxis": {
         "title": {
          "text": "exper"
         }
        },
        "yaxis": {
         "title": {
          "text": "lwage"
         }
        }
       }
      }
     },
     "metadata": {},
     "output_type": "display_data"
    },
    {
     "name": "stdout",
     "output_type": "stream",
     "text": [
      "Predicted values: [-13.59810631 -59.8917585 ]\n",
      "R-squared: 0.33887637933892056\n",
      "Mean Squared Error (MSE): 0.2334815638210624\n",
      "Root Mean Squared Error (RMSE): 0.4831993003110232\n",
      "Mean Absolute Error (MAE): 0.37409205913785404\n"
     ]
    }
   ],
   "source": [
    "import pandas as pd\n",
    "import numpy as np\n",
    "import plotly.express as px\n",
    "import plotly.graph_objects as go\n",
    "from sklearn.linear_model import LinearRegression\n",
    "from sklearn.metrics import mean_squared_error, mean_absolute_error\n",
    "\n",
    "# Read the \"beauty\" DataFrame from the Excel file\n",
    "df = pd.read_excel(\"beauty_data.xlsx\")\n",
    "\n",
    "# Separate input features (X) and target variable (y)\n",
    "X = df[['educ', 'exper', 'belavg', 'abvavg', 'female']]  # Input features\n",
    "y = df['lwage']  # Target variable\n",
    "\n",
    "\n",
    "# Create a Linear Regression model\n",
    "model = LinearRegression()\n",
    "\n",
    "# Fit the model to the data\n",
    "model.fit(X, y)\n",
    "\n",
    "# Make predictions\n",
    "X_new = pd.DataFrame({'educ': [16, 18], \n",
    "                      'exper': [5, 10], \n",
    "                      'belavg': [25, 100],\n",
    "                      'abvavg': [25, 100],\n",
    "                      'female': [25, 100]})  # New input features\n",
    "y_pred = model.predict(X_new)\n",
    "\n",
    "# Calculate evaluation metrics\n",
    "y_pred_train = model.predict(X)\n",
    "mse = mean_squared_error(y, y_pred_train)\n",
    "mae = mean_absolute_error(y, y_pred_train)\n",
    "rmse = np.sqrt(mse)\n",
    "\n",
    "# Calculate R²\n",
    "r_squared = model.score(X, y)\n",
    "\n",
    "# Visualize the regression line\n",
    "X_line = np.linspace(X.min(), X.max(), 100).reshape(-1, 5)\n",
    "y_line = model.predict(X_line)\n",
    "\n",
    "fig = go.Figure()\n",
    "fig.add_trace(go.Scatter(x=X['exper'], y=y, mode='markers', name='Data Points'))\n",
    "fig.add_trace(go.Scatter(x=X_line[:, 1], y=y_line, mode='lines', name='Regression Line'))\n",
    "fig.update_layout(\n",
    "    title='Linear Regression',\n",
    "    xaxis_title='exper',\n",
    "    yaxis_title='lwage',\n",
    "    showlegend=True\n",
    ")\n",
    "fig.show()\n",
    "\n",
    "print(\"Predicted values:\", y_pred)\n",
    "print(\"R-squared:\", r_squared)\n",
    "print(\"Mean Squared Error (MSE):\", mse)\n",
    "print(\"Root Mean Squared Error (RMSE):\", rmse)\n",
    "print(\"Mean Absolute Error (MAE):\", mae)\n"
   ]
  }
 ],
 "metadata": {
  "kernelspec": {
   "display_name": "Python 3",
   "language": "python",
   "name": "python3"
  },
  "language_info": {
   "codemirror_mode": {
    "name": "ipython",
    "version": 3
   },
   "file_extension": ".py",
   "mimetype": "text/x-python",
   "name": "python",
   "nbconvert_exporter": "python",
   "pygments_lexer": "ipython3",
   "version": "3.10.7"
  },
  "orig_nbformat": 4
 },
 "nbformat": 4,
 "nbformat_minor": 2
}
